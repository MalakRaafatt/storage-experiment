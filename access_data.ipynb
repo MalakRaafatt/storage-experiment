{
 "cells": [
  {
   "cell_type": "code",
   "execution_count": 1,
   "metadata": {},
   "outputs": [],
   "source": [
    "import xarray as xr\n",
    "import timeit\n",
    "import time\n",
    "import os"
   ]
  },
  {
   "cell_type": "code",
   "execution_count": 2,
   "metadata": {},
   "outputs": [
    {
     "data": {
      "text/html": [
       "<div><svg style=\"position: absolute; width: 0; height: 0; overflow: hidden\">\n",
       "<defs>\n",
       "<symbol id=\"icon-database\" viewBox=\"0 0 32 32\">\n",
       "<path d=\"M16 0c-8.837 0-16 2.239-16 5v4c0 2.761 7.163 5 16 5s16-2.239 16-5v-4c0-2.761-7.163-5-16-5z\"></path>\n",
       "<path d=\"M16 17c-8.837 0-16-2.239-16-5v6c0 2.761 7.163 5 16 5s16-2.239 16-5v-6c0 2.761-7.163 5-16 5z\"></path>\n",
       "<path d=\"M16 26c-8.837 0-16-2.239-16-5v6c0 2.761 7.163 5 16 5s16-2.239 16-5v-6c0 2.761-7.163 5-16 5z\"></path>\n",
       "</symbol>\n",
       "<symbol id=\"icon-file-text2\" viewBox=\"0 0 32 32\">\n",
       "<path d=\"M28.681 7.159c-0.694-0.947-1.662-2.053-2.724-3.116s-2.169-2.030-3.116-2.724c-1.612-1.182-2.393-1.319-2.841-1.319h-15.5c-1.378 0-2.5 1.121-2.5 2.5v27c0 1.378 1.122 2.5 2.5 2.5h23c1.378 0 2.5-1.122 2.5-2.5v-19.5c0-0.448-0.137-1.23-1.319-2.841zM24.543 5.457c0.959 0.959 1.712 1.825 2.268 2.543h-4.811v-4.811c0.718 0.556 1.584 1.309 2.543 2.268zM28 29.5c0 0.271-0.229 0.5-0.5 0.5h-23c-0.271 0-0.5-0.229-0.5-0.5v-27c0-0.271 0.229-0.5 0.5-0.5 0 0 15.499-0 15.5 0v7c0 0.552 0.448 1 1 1h7v19.5z\"></path>\n",
       "<path d=\"M23 26h-14c-0.552 0-1-0.448-1-1s0.448-1 1-1h14c0.552 0 1 0.448 1 1s-0.448 1-1 1z\"></path>\n",
       "<path d=\"M23 22h-14c-0.552 0-1-0.448-1-1s0.448-1 1-1h14c0.552 0 1 0.448 1 1s-0.448 1-1 1z\"></path>\n",
       "<path d=\"M23 18h-14c-0.552 0-1-0.448-1-1s0.448-1 1-1h14c0.552 0 1 0.448 1 1s-0.448 1-1 1z\"></path>\n",
       "</symbol>\n",
       "</defs>\n",
       "</svg>\n",
       "<style>/* CSS stylesheet for displaying xarray objects in jupyterlab.\n",
       " *\n",
       " */\n",
       "\n",
       ":root {\n",
       "  --xr-font-color0: var(--jp-content-font-color0, rgba(0, 0, 0, 1));\n",
       "  --xr-font-color2: var(--jp-content-font-color2, rgba(0, 0, 0, 0.54));\n",
       "  --xr-font-color3: var(--jp-content-font-color3, rgba(0, 0, 0, 0.38));\n",
       "  --xr-border-color: var(--jp-border-color2, #e0e0e0);\n",
       "  --xr-disabled-color: var(--jp-layout-color3, #bdbdbd);\n",
       "  --xr-background-color: var(--jp-layout-color0, white);\n",
       "  --xr-background-color-row-even: var(--jp-layout-color1, white);\n",
       "  --xr-background-color-row-odd: var(--jp-layout-color2, #eeeeee);\n",
       "}\n",
       "\n",
       "html[theme=\"dark\"],\n",
       "html[data-theme=\"dark\"],\n",
       "body[data-theme=\"dark\"],\n",
       "body.vscode-dark {\n",
       "  --xr-font-color0: rgba(255, 255, 255, 1);\n",
       "  --xr-font-color2: rgba(255, 255, 255, 0.54);\n",
       "  --xr-font-color3: rgba(255, 255, 255, 0.38);\n",
       "  --xr-border-color: #1f1f1f;\n",
       "  --xr-disabled-color: #515151;\n",
       "  --xr-background-color: #111111;\n",
       "  --xr-background-color-row-even: #111111;\n",
       "  --xr-background-color-row-odd: #313131;\n",
       "}\n",
       "\n",
       ".xr-wrap {\n",
       "  display: block !important;\n",
       "  min-width: 300px;\n",
       "  max-width: 700px;\n",
       "}\n",
       "\n",
       ".xr-text-repr-fallback {\n",
       "  /* fallback to plain text repr when CSS is not injected (untrusted notebook) */\n",
       "  display: none;\n",
       "}\n",
       "\n",
       ".xr-header {\n",
       "  padding-top: 6px;\n",
       "  padding-bottom: 6px;\n",
       "  margin-bottom: 4px;\n",
       "  border-bottom: solid 1px var(--xr-border-color);\n",
       "}\n",
       "\n",
       ".xr-header > div,\n",
       ".xr-header > ul {\n",
       "  display: inline;\n",
       "  margin-top: 0;\n",
       "  margin-bottom: 0;\n",
       "}\n",
       "\n",
       ".xr-obj-type,\n",
       ".xr-array-name {\n",
       "  margin-left: 2px;\n",
       "  margin-right: 10px;\n",
       "}\n",
       "\n",
       ".xr-obj-type {\n",
       "  color: var(--xr-font-color2);\n",
       "}\n",
       "\n",
       ".xr-sections {\n",
       "  padding-left: 0 !important;\n",
       "  display: grid;\n",
       "  grid-template-columns: 150px auto auto 1fr 0 20px 0 20px;\n",
       "}\n",
       "\n",
       ".xr-section-item {\n",
       "  display: contents;\n",
       "}\n",
       "\n",
       ".xr-section-item input {\n",
       "  display: inline-block;\n",
       "  opacity: 0;\n",
       "  height: 0;\n",
       "}\n",
       "\n",
       ".xr-section-item input + label {\n",
       "  color: var(--xr-disabled-color);\n",
       "}\n",
       "\n",
       ".xr-section-item input:enabled + label {\n",
       "  cursor: pointer;\n",
       "  color: var(--xr-font-color2);\n",
       "}\n",
       "\n",
       ".xr-section-item input:focus + label {\n",
       "  border: 2px solid var(--xr-font-color0);\n",
       "}\n",
       "\n",
       ".xr-section-item input:enabled + label:hover {\n",
       "  color: var(--xr-font-color0);\n",
       "}\n",
       "\n",
       ".xr-section-summary {\n",
       "  grid-column: 1;\n",
       "  color: var(--xr-font-color2);\n",
       "  font-weight: 500;\n",
       "}\n",
       "\n",
       ".xr-section-summary > span {\n",
       "  display: inline-block;\n",
       "  padding-left: 0.5em;\n",
       "}\n",
       "\n",
       ".xr-section-summary-in:disabled + label {\n",
       "  color: var(--xr-font-color2);\n",
       "}\n",
       "\n",
       ".xr-section-summary-in + label:before {\n",
       "  display: inline-block;\n",
       "  content: \"►\";\n",
       "  font-size: 11px;\n",
       "  width: 15px;\n",
       "  text-align: center;\n",
       "}\n",
       "\n",
       ".xr-section-summary-in:disabled + label:before {\n",
       "  color: var(--xr-disabled-color);\n",
       "}\n",
       "\n",
       ".xr-section-summary-in:checked + label:before {\n",
       "  content: \"▼\";\n",
       "}\n",
       "\n",
       ".xr-section-summary-in:checked + label > span {\n",
       "  display: none;\n",
       "}\n",
       "\n",
       ".xr-section-summary,\n",
       ".xr-section-inline-details {\n",
       "  padding-top: 4px;\n",
       "  padding-bottom: 4px;\n",
       "}\n",
       "\n",
       ".xr-section-inline-details {\n",
       "  grid-column: 2 / -1;\n",
       "}\n",
       "\n",
       ".xr-section-details {\n",
       "  display: none;\n",
       "  grid-column: 1 / -1;\n",
       "  margin-bottom: 5px;\n",
       "}\n",
       "\n",
       ".xr-section-summary-in:checked ~ .xr-section-details {\n",
       "  display: contents;\n",
       "}\n",
       "\n",
       ".xr-array-wrap {\n",
       "  grid-column: 1 / -1;\n",
       "  display: grid;\n",
       "  grid-template-columns: 20px auto;\n",
       "}\n",
       "\n",
       ".xr-array-wrap > label {\n",
       "  grid-column: 1;\n",
       "  vertical-align: top;\n",
       "}\n",
       "\n",
       ".xr-preview {\n",
       "  color: var(--xr-font-color3);\n",
       "}\n",
       "\n",
       ".xr-array-preview,\n",
       ".xr-array-data {\n",
       "  padding: 0 5px !important;\n",
       "  grid-column: 2;\n",
       "}\n",
       "\n",
       ".xr-array-data,\n",
       ".xr-array-in:checked ~ .xr-array-preview {\n",
       "  display: none;\n",
       "}\n",
       "\n",
       ".xr-array-in:checked ~ .xr-array-data,\n",
       ".xr-array-preview {\n",
       "  display: inline-block;\n",
       "}\n",
       "\n",
       ".xr-dim-list {\n",
       "  display: inline-block !important;\n",
       "  list-style: none;\n",
       "  padding: 0 !important;\n",
       "  margin: 0;\n",
       "}\n",
       "\n",
       ".xr-dim-list li {\n",
       "  display: inline-block;\n",
       "  padding: 0;\n",
       "  margin: 0;\n",
       "}\n",
       "\n",
       ".xr-dim-list:before {\n",
       "  content: \"(\";\n",
       "}\n",
       "\n",
       ".xr-dim-list:after {\n",
       "  content: \")\";\n",
       "}\n",
       "\n",
       ".xr-dim-list li:not(:last-child):after {\n",
       "  content: \",\";\n",
       "  padding-right: 5px;\n",
       "}\n",
       "\n",
       ".xr-has-index {\n",
       "  font-weight: bold;\n",
       "}\n",
       "\n",
       ".xr-var-list,\n",
       ".xr-var-item {\n",
       "  display: contents;\n",
       "}\n",
       "\n",
       ".xr-var-item > div,\n",
       ".xr-var-item label,\n",
       ".xr-var-item > .xr-var-name span {\n",
       "  background-color: var(--xr-background-color-row-even);\n",
       "  margin-bottom: 0;\n",
       "}\n",
       "\n",
       ".xr-var-item > .xr-var-name:hover span {\n",
       "  padding-right: 5px;\n",
       "}\n",
       "\n",
       ".xr-var-list > li:nth-child(odd) > div,\n",
       ".xr-var-list > li:nth-child(odd) > label,\n",
       ".xr-var-list > li:nth-child(odd) > .xr-var-name span {\n",
       "  background-color: var(--xr-background-color-row-odd);\n",
       "}\n",
       "\n",
       ".xr-var-name {\n",
       "  grid-column: 1;\n",
       "}\n",
       "\n",
       ".xr-var-dims {\n",
       "  grid-column: 2;\n",
       "}\n",
       "\n",
       ".xr-var-dtype {\n",
       "  grid-column: 3;\n",
       "  text-align: right;\n",
       "  color: var(--xr-font-color2);\n",
       "}\n",
       "\n",
       ".xr-var-preview {\n",
       "  grid-column: 4;\n",
       "}\n",
       "\n",
       ".xr-index-preview {\n",
       "  grid-column: 2 / 5;\n",
       "  color: var(--xr-font-color2);\n",
       "}\n",
       "\n",
       ".xr-var-name,\n",
       ".xr-var-dims,\n",
       ".xr-var-dtype,\n",
       ".xr-preview,\n",
       ".xr-attrs dt {\n",
       "  white-space: nowrap;\n",
       "  overflow: hidden;\n",
       "  text-overflow: ellipsis;\n",
       "  padding-right: 10px;\n",
       "}\n",
       "\n",
       ".xr-var-name:hover,\n",
       ".xr-var-dims:hover,\n",
       ".xr-var-dtype:hover,\n",
       ".xr-attrs dt:hover {\n",
       "  overflow: visible;\n",
       "  width: auto;\n",
       "  z-index: 1;\n",
       "}\n",
       "\n",
       ".xr-var-attrs,\n",
       ".xr-var-data,\n",
       ".xr-index-data {\n",
       "  display: none;\n",
       "  background-color: var(--xr-background-color) !important;\n",
       "  padding-bottom: 5px !important;\n",
       "}\n",
       "\n",
       ".xr-var-attrs-in:checked ~ .xr-var-attrs,\n",
       ".xr-var-data-in:checked ~ .xr-var-data,\n",
       ".xr-index-data-in:checked ~ .xr-index-data {\n",
       "  display: block;\n",
       "}\n",
       "\n",
       ".xr-var-data > table {\n",
       "  float: right;\n",
       "}\n",
       "\n",
       ".xr-var-name span,\n",
       ".xr-var-data,\n",
       ".xr-index-name div,\n",
       ".xr-index-data,\n",
       ".xr-attrs {\n",
       "  padding-left: 25px !important;\n",
       "}\n",
       "\n",
       ".xr-attrs,\n",
       ".xr-var-attrs,\n",
       ".xr-var-data,\n",
       ".xr-index-data {\n",
       "  grid-column: 1 / -1;\n",
       "}\n",
       "\n",
       "dl.xr-attrs {\n",
       "  padding: 0;\n",
       "  margin: 0;\n",
       "  display: grid;\n",
       "  grid-template-columns: 125px auto;\n",
       "}\n",
       "\n",
       ".xr-attrs dt,\n",
       ".xr-attrs dd {\n",
       "  padding: 0;\n",
       "  margin: 0;\n",
       "  float: left;\n",
       "  padding-right: 10px;\n",
       "  width: auto;\n",
       "}\n",
       "\n",
       ".xr-attrs dt {\n",
       "  font-weight: normal;\n",
       "  grid-column: 1;\n",
       "}\n",
       "\n",
       ".xr-attrs dt:hover span {\n",
       "  display: inline-block;\n",
       "  background: var(--xr-background-color);\n",
       "  padding-right: 10px;\n",
       "}\n",
       "\n",
       ".xr-attrs dd {\n",
       "  grid-column: 2;\n",
       "  white-space: pre-wrap;\n",
       "  word-break: break-all;\n",
       "}\n",
       "\n",
       ".xr-icon-database,\n",
       ".xr-icon-file-text2,\n",
       ".xr-no-icon {\n",
       "  display: inline-block;\n",
       "  vertical-align: middle;\n",
       "  width: 1em;\n",
       "  height: 1.5em !important;\n",
       "  stroke-width: 0;\n",
       "  stroke: currentColor;\n",
       "  fill: currentColor;\n",
       "}\n",
       "</style><pre class='xr-text-repr-fallback'>&lt;xarray.Dataset&gt; Size: 121GB\n",
       "Dimensions:    (time: 14610, latitude: 721, longitude: 1440)\n",
       "Coordinates:\n",
       "  * longitude  (longitude) float32 6kB -180.0 -179.8 -179.5 ... 179.5 179.8\n",
       "  * latitude   (latitude) float32 3kB 90.0 89.75 89.5 ... -89.5 -89.75 -90.0\n",
       "  * time       (time) datetime64[ns] 117kB 1984-01-01 1984-01-02 ... 2023-12-31\n",
       "Data variables:\n",
       "    t2m        (time, latitude, longitude) float64 121GB ...\n",
       "Attributes:\n",
       "    Conventions:  CF-1.6\n",
       "    history:      2024-07-30 17:50:29 GMT by grib_to_netcdf-2.28.1: /opt/ecmw...</pre><div class='xr-wrap' style='display:none'><div class='xr-header'><div class='xr-obj-type'>xarray.Dataset</div></div><ul class='xr-sections'><li class='xr-section-item'><input id='section-16d88f57-985b-4d8a-ae73-12ae2f445e06' class='xr-section-summary-in' type='checkbox' disabled ><label for='section-16d88f57-985b-4d8a-ae73-12ae2f445e06' class='xr-section-summary'  title='Expand/collapse section'>Dimensions:</label><div class='xr-section-inline-details'><ul class='xr-dim-list'><li><span class='xr-has-index'>time</span>: 14610</li><li><span class='xr-has-index'>latitude</span>: 721</li><li><span class='xr-has-index'>longitude</span>: 1440</li></ul></div><div class='xr-section-details'></div></li><li class='xr-section-item'><input id='section-8b94bbd7-0632-4061-9c59-c084511b24ec' class='xr-section-summary-in' type='checkbox'  checked><label for='section-8b94bbd7-0632-4061-9c59-c084511b24ec' class='xr-section-summary' >Coordinates: <span>(3)</span></label><div class='xr-section-inline-details'></div><div class='xr-section-details'><ul class='xr-var-list'><li class='xr-var-item'><div class='xr-var-name'><span class='xr-has-index'>longitude</span></div><div class='xr-var-dims'>(longitude)</div><div class='xr-var-dtype'>float32</div><div class='xr-var-preview xr-preview'>-180.0 -179.8 ... 179.5 179.8</div><input id='attrs-9c4d291c-b69b-47e5-9057-f7ae6edfa062' class='xr-var-attrs-in' type='checkbox' ><label for='attrs-9c4d291c-b69b-47e5-9057-f7ae6edfa062' title='Show/Hide attributes'><svg class='icon xr-icon-file-text2'><use xlink:href='#icon-file-text2'></use></svg></label><input id='data-580adea8-c93c-4fe2-be6e-6362ccb4c4db' class='xr-var-data-in' type='checkbox'><label for='data-580adea8-c93c-4fe2-be6e-6362ccb4c4db' title='Show/Hide data repr'><svg class='icon xr-icon-database'><use xlink:href='#icon-database'></use></svg></label><div class='xr-var-attrs'><dl class='xr-attrs'><dt><span>units :</span></dt><dd>degrees_east</dd><dt><span>long_name :</span></dt><dd>longitude</dd></dl></div><div class='xr-var-data'><pre>array([-180.  , -179.75, -179.5 , ...,  179.25,  179.5 ,  179.75],\n",
       "      dtype=float32)</pre></div></li><li class='xr-var-item'><div class='xr-var-name'><span class='xr-has-index'>latitude</span></div><div class='xr-var-dims'>(latitude)</div><div class='xr-var-dtype'>float32</div><div class='xr-var-preview xr-preview'>90.0 89.75 89.5 ... -89.75 -90.0</div><input id='attrs-9dde2e93-83bf-4c34-b8eb-ab12fe12dd0b' class='xr-var-attrs-in' type='checkbox' ><label for='attrs-9dde2e93-83bf-4c34-b8eb-ab12fe12dd0b' title='Show/Hide attributes'><svg class='icon xr-icon-file-text2'><use xlink:href='#icon-file-text2'></use></svg></label><input id='data-09f9c3c9-fe76-4672-9dca-fb026d9f7344' class='xr-var-data-in' type='checkbox'><label for='data-09f9c3c9-fe76-4672-9dca-fb026d9f7344' title='Show/Hide data repr'><svg class='icon xr-icon-database'><use xlink:href='#icon-database'></use></svg></label><div class='xr-var-attrs'><dl class='xr-attrs'><dt><span>units :</span></dt><dd>degrees_north</dd><dt><span>long_name :</span></dt><dd>latitude</dd></dl></div><div class='xr-var-data'><pre>array([ 90.  ,  89.75,  89.5 , ..., -89.5 , -89.75, -90.  ], dtype=float32)</pre></div></li><li class='xr-var-item'><div class='xr-var-name'><span class='xr-has-index'>time</span></div><div class='xr-var-dims'>(time)</div><div class='xr-var-dtype'>datetime64[ns]</div><div class='xr-var-preview xr-preview'>1984-01-01 ... 2023-12-31</div><input id='attrs-0904ca19-d050-46fb-a154-090e8f3c69f8' class='xr-var-attrs-in' type='checkbox' ><label for='attrs-0904ca19-d050-46fb-a154-090e8f3c69f8' title='Show/Hide attributes'><svg class='icon xr-icon-file-text2'><use xlink:href='#icon-file-text2'></use></svg></label><input id='data-4214c117-a083-48bb-8c96-19058feb8c36' class='xr-var-data-in' type='checkbox'><label for='data-4214c117-a083-48bb-8c96-19058feb8c36' title='Show/Hide data repr'><svg class='icon xr-icon-database'><use xlink:href='#icon-database'></use></svg></label><div class='xr-var-attrs'><dl class='xr-attrs'><dt><span>long_name :</span></dt><dd>time</dd></dl></div><div class='xr-var-data'><pre>array([&#x27;1984-01-01T00:00:00.000000000&#x27;, &#x27;1984-01-02T00:00:00.000000000&#x27;,\n",
       "       &#x27;1984-01-03T00:00:00.000000000&#x27;, ..., &#x27;2023-12-29T00:00:00.000000000&#x27;,\n",
       "       &#x27;2023-12-30T00:00:00.000000000&#x27;, &#x27;2023-12-31T00:00:00.000000000&#x27;],\n",
       "      dtype=&#x27;datetime64[ns]&#x27;)</pre></div></li></ul></div></li><li class='xr-section-item'><input id='section-de4dbd74-4dc7-4816-8642-766312d901c9' class='xr-section-summary-in' type='checkbox'  checked><label for='section-de4dbd74-4dc7-4816-8642-766312d901c9' class='xr-section-summary' >Data variables: <span>(1)</span></label><div class='xr-section-inline-details'></div><div class='xr-section-details'><ul class='xr-var-list'><li class='xr-var-item'><div class='xr-var-name'><span>t2m</span></div><div class='xr-var-dims'>(time, latitude, longitude)</div><div class='xr-var-dtype'>float64</div><div class='xr-var-preview xr-preview'>...</div><input id='attrs-eadff1d2-aa3b-43b2-9043-27598c202de5' class='xr-var-attrs-in' type='checkbox' ><label for='attrs-eadff1d2-aa3b-43b2-9043-27598c202de5' title='Show/Hide attributes'><svg class='icon xr-icon-file-text2'><use xlink:href='#icon-file-text2'></use></svg></label><input id='data-2f7273b0-d7a6-4fd9-9118-327b1f874f4e' class='xr-var-data-in' type='checkbox'><label for='data-2f7273b0-d7a6-4fd9-9118-327b1f874f4e' title='Show/Hide data repr'><svg class='icon xr-icon-database'><use xlink:href='#icon-database'></use></svg></label><div class='xr-var-attrs'><dl class='xr-attrs'><dt><span>units :</span></dt><dd>K</dd><dt><span>long_name :</span></dt><dd>2 metre temperature</dd></dl></div><div class='xr-var-data'><pre>[15168686400 values with dtype=float64]</pre></div></li></ul></div></li><li class='xr-section-item'><input id='section-ec38e11c-c781-4d48-a2e0-ea87eec17022' class='xr-section-summary-in' type='checkbox'  ><label for='section-ec38e11c-c781-4d48-a2e0-ea87eec17022' class='xr-section-summary' >Indexes: <span>(3)</span></label><div class='xr-section-inline-details'></div><div class='xr-section-details'><ul class='xr-var-list'><li class='xr-var-item'><div class='xr-index-name'><div>longitude</div></div><div class='xr-index-preview'>PandasIndex</div><input type='checkbox' disabled/><label></label><input id='index-854de2f5-19b2-4cc4-b904-9ab49fa99695' class='xr-index-data-in' type='checkbox'/><label for='index-854de2f5-19b2-4cc4-b904-9ab49fa99695' title='Show/Hide index repr'><svg class='icon xr-icon-database'><use xlink:href='#icon-database'></use></svg></label><div class='xr-index-data'><pre>PandasIndex(Index([ -180.0, -179.75,  -179.5, -179.25,  -179.0, -178.75,  -178.5, -178.25,\n",
       "        -178.0, -177.75,\n",
       "       ...\n",
       "         177.5,  177.75,   178.0,  178.25,   178.5,  178.75,   179.0,  179.25,\n",
       "         179.5,  179.75],\n",
       "      dtype=&#x27;float32&#x27;, name=&#x27;longitude&#x27;, length=1440))</pre></div></li><li class='xr-var-item'><div class='xr-index-name'><div>latitude</div></div><div class='xr-index-preview'>PandasIndex</div><input type='checkbox' disabled/><label></label><input id='index-cdef8c14-d0b2-432f-a7f8-12f977d8ab64' class='xr-index-data-in' type='checkbox'/><label for='index-cdef8c14-d0b2-432f-a7f8-12f977d8ab64' title='Show/Hide index repr'><svg class='icon xr-icon-database'><use xlink:href='#icon-database'></use></svg></label><div class='xr-index-data'><pre>PandasIndex(Index([  90.0,  89.75,   89.5,  89.25,   89.0,  88.75,   88.5,  88.25,   88.0,\n",
       "        87.75,\n",
       "       ...\n",
       "       -87.75,  -88.0, -88.25,  -88.5, -88.75,  -89.0, -89.25,  -89.5, -89.75,\n",
       "        -90.0],\n",
       "      dtype=&#x27;float32&#x27;, name=&#x27;latitude&#x27;, length=721))</pre></div></li><li class='xr-var-item'><div class='xr-index-name'><div>time</div></div><div class='xr-index-preview'>PandasIndex</div><input type='checkbox' disabled/><label></label><input id='index-d78dae6b-46b8-4cee-adfa-e61f4d1daed5' class='xr-index-data-in' type='checkbox'/><label for='index-d78dae6b-46b8-4cee-adfa-e61f4d1daed5' title='Show/Hide index repr'><svg class='icon xr-icon-database'><use xlink:href='#icon-database'></use></svg></label><div class='xr-index-data'><pre>PandasIndex(DatetimeIndex([&#x27;1984-01-01&#x27;, &#x27;1984-01-02&#x27;, &#x27;1984-01-03&#x27;, &#x27;1984-01-04&#x27;,\n",
       "               &#x27;1984-01-05&#x27;, &#x27;1984-01-06&#x27;, &#x27;1984-01-07&#x27;, &#x27;1984-01-08&#x27;,\n",
       "               &#x27;1984-01-09&#x27;, &#x27;1984-01-10&#x27;,\n",
       "               ...\n",
       "               &#x27;2023-12-22&#x27;, &#x27;2023-12-23&#x27;, &#x27;2023-12-24&#x27;, &#x27;2023-12-25&#x27;,\n",
       "               &#x27;2023-12-26&#x27;, &#x27;2023-12-27&#x27;, &#x27;2023-12-28&#x27;, &#x27;2023-12-29&#x27;,\n",
       "               &#x27;2023-12-30&#x27;, &#x27;2023-12-31&#x27;],\n",
       "              dtype=&#x27;datetime64[ns]&#x27;, name=&#x27;time&#x27;, length=14610, freq=None))</pre></div></li></ul></div></li><li class='xr-section-item'><input id='section-d2fe61a3-c46e-4df9-9129-cb39572593b5' class='xr-section-summary-in' type='checkbox'  checked><label for='section-d2fe61a3-c46e-4df9-9129-cb39572593b5' class='xr-section-summary' >Attributes: <span>(2)</span></label><div class='xr-section-inline-details'></div><div class='xr-section-details'><dl class='xr-attrs'><dt><span>Conventions :</span></dt><dd>CF-1.6</dd><dt><span>history :</span></dt><dd>2024-07-30 17:50:29 GMT by grib_to_netcdf-2.28.1: /opt/ecmwf/mars-client/bin/grib_to_netcdf -S param -o /cache/data0/adaptor.mars.internal-1722361585.932855-3691-14-17d49ffb-de55-4262-88d1-3acfec41b15c.nc /cache/tmp/17d49ffb-de55-4262-88d1-3acfec41b15c-adaptor.mars.internal-1722360933.299456-3691-9-tmp.grib</dd></dl></div></li></ul></div></div>"
      ],
      "text/plain": [
       "<xarray.Dataset> Size: 121GB\n",
       "Dimensions:    (time: 14610, latitude: 721, longitude: 1440)\n",
       "Coordinates:\n",
       "  * longitude  (longitude) float32 6kB -180.0 -179.8 -179.5 ... 179.5 179.8\n",
       "  * latitude   (latitude) float32 3kB 90.0 89.75 89.5 ... -89.5 -89.75 -90.0\n",
       "  * time       (time) datetime64[ns] 117kB 1984-01-01 1984-01-02 ... 2023-12-31\n",
       "Data variables:\n",
       "    t2m        (time, latitude, longitude) float64 121GB ...\n",
       "Attributes:\n",
       "    Conventions:  CF-1.6\n",
       "    history:      2024-07-30 17:50:29 GMT by grib_to_netcdf-2.28.1: /opt/ecmw..."
      ]
     },
     "execution_count": 2,
     "metadata": {},
     "output_type": "execute_result"
    }
   ],
   "source": [
    "# Open the NetCDF file using xarray\n",
    "file_path = '2m_temperature-day-mean.nc'\n",
    "ds = xr.open_dataset(file_path)\n",
    "ds"
   ]
  },
  {
   "cell_type": "code",
   "execution_count": 3,
   "metadata": {},
   "outputs": [
    {
     "data": {
      "text/html": [
       "<div><svg style=\"position: absolute; width: 0; height: 0; overflow: hidden\">\n",
       "<defs>\n",
       "<symbol id=\"icon-database\" viewBox=\"0 0 32 32\">\n",
       "<path d=\"M16 0c-8.837 0-16 2.239-16 5v4c0 2.761 7.163 5 16 5s16-2.239 16-5v-4c0-2.761-7.163-5-16-5z\"></path>\n",
       "<path d=\"M16 17c-8.837 0-16-2.239-16-5v6c0 2.761 7.163 5 16 5s16-2.239 16-5v-6c0 2.761-7.163 5-16 5z\"></path>\n",
       "<path d=\"M16 26c-8.837 0-16-2.239-16-5v6c0 2.761 7.163 5 16 5s16-2.239 16-5v-6c0 2.761-7.163 5-16 5z\"></path>\n",
       "</symbol>\n",
       "<symbol id=\"icon-file-text2\" viewBox=\"0 0 32 32\">\n",
       "<path d=\"M28.681 7.159c-0.694-0.947-1.662-2.053-2.724-3.116s-2.169-2.030-3.116-2.724c-1.612-1.182-2.393-1.319-2.841-1.319h-15.5c-1.378 0-2.5 1.121-2.5 2.5v27c0 1.378 1.122 2.5 2.5 2.5h23c1.378 0 2.5-1.122 2.5-2.5v-19.5c0-0.448-0.137-1.23-1.319-2.841zM24.543 5.457c0.959 0.959 1.712 1.825 2.268 2.543h-4.811v-4.811c0.718 0.556 1.584 1.309 2.543 2.268zM28 29.5c0 0.271-0.229 0.5-0.5 0.5h-23c-0.271 0-0.5-0.229-0.5-0.5v-27c0-0.271 0.229-0.5 0.5-0.5 0 0 15.499-0 15.5 0v7c0 0.552 0.448 1 1 1h7v19.5z\"></path>\n",
       "<path d=\"M23 26h-14c-0.552 0-1-0.448-1-1s0.448-1 1-1h14c0.552 0 1 0.448 1 1s-0.448 1-1 1z\"></path>\n",
       "<path d=\"M23 22h-14c-0.552 0-1-0.448-1-1s0.448-1 1-1h14c0.552 0 1 0.448 1 1s-0.448 1-1 1z\"></path>\n",
       "<path d=\"M23 18h-14c-0.552 0-1-0.448-1-1s0.448-1 1-1h14c0.552 0 1 0.448 1 1s-0.448 1-1 1z\"></path>\n",
       "</symbol>\n",
       "</defs>\n",
       "</svg>\n",
       "<style>/* CSS stylesheet for displaying xarray objects in jupyterlab.\n",
       " *\n",
       " */\n",
       "\n",
       ":root {\n",
       "  --xr-font-color0: var(--jp-content-font-color0, rgba(0, 0, 0, 1));\n",
       "  --xr-font-color2: var(--jp-content-font-color2, rgba(0, 0, 0, 0.54));\n",
       "  --xr-font-color3: var(--jp-content-font-color3, rgba(0, 0, 0, 0.38));\n",
       "  --xr-border-color: var(--jp-border-color2, #e0e0e0);\n",
       "  --xr-disabled-color: var(--jp-layout-color3, #bdbdbd);\n",
       "  --xr-background-color: var(--jp-layout-color0, white);\n",
       "  --xr-background-color-row-even: var(--jp-layout-color1, white);\n",
       "  --xr-background-color-row-odd: var(--jp-layout-color2, #eeeeee);\n",
       "}\n",
       "\n",
       "html[theme=\"dark\"],\n",
       "html[data-theme=\"dark\"],\n",
       "body[data-theme=\"dark\"],\n",
       "body.vscode-dark {\n",
       "  --xr-font-color0: rgba(255, 255, 255, 1);\n",
       "  --xr-font-color2: rgba(255, 255, 255, 0.54);\n",
       "  --xr-font-color3: rgba(255, 255, 255, 0.38);\n",
       "  --xr-border-color: #1f1f1f;\n",
       "  --xr-disabled-color: #515151;\n",
       "  --xr-background-color: #111111;\n",
       "  --xr-background-color-row-even: #111111;\n",
       "  --xr-background-color-row-odd: #313131;\n",
       "}\n",
       "\n",
       ".xr-wrap {\n",
       "  display: block !important;\n",
       "  min-width: 300px;\n",
       "  max-width: 700px;\n",
       "}\n",
       "\n",
       ".xr-text-repr-fallback {\n",
       "  /* fallback to plain text repr when CSS is not injected (untrusted notebook) */\n",
       "  display: none;\n",
       "}\n",
       "\n",
       ".xr-header {\n",
       "  padding-top: 6px;\n",
       "  padding-bottom: 6px;\n",
       "  margin-bottom: 4px;\n",
       "  border-bottom: solid 1px var(--xr-border-color);\n",
       "}\n",
       "\n",
       ".xr-header > div,\n",
       ".xr-header > ul {\n",
       "  display: inline;\n",
       "  margin-top: 0;\n",
       "  margin-bottom: 0;\n",
       "}\n",
       "\n",
       ".xr-obj-type,\n",
       ".xr-array-name {\n",
       "  margin-left: 2px;\n",
       "  margin-right: 10px;\n",
       "}\n",
       "\n",
       ".xr-obj-type {\n",
       "  color: var(--xr-font-color2);\n",
       "}\n",
       "\n",
       ".xr-sections {\n",
       "  padding-left: 0 !important;\n",
       "  display: grid;\n",
       "  grid-template-columns: 150px auto auto 1fr 0 20px 0 20px;\n",
       "}\n",
       "\n",
       ".xr-section-item {\n",
       "  display: contents;\n",
       "}\n",
       "\n",
       ".xr-section-item input {\n",
       "  display: inline-block;\n",
       "  opacity: 0;\n",
       "  height: 0;\n",
       "}\n",
       "\n",
       ".xr-section-item input + label {\n",
       "  color: var(--xr-disabled-color);\n",
       "}\n",
       "\n",
       ".xr-section-item input:enabled + label {\n",
       "  cursor: pointer;\n",
       "  color: var(--xr-font-color2);\n",
       "}\n",
       "\n",
       ".xr-section-item input:focus + label {\n",
       "  border: 2px solid var(--xr-font-color0);\n",
       "}\n",
       "\n",
       ".xr-section-item input:enabled + label:hover {\n",
       "  color: var(--xr-font-color0);\n",
       "}\n",
       "\n",
       ".xr-section-summary {\n",
       "  grid-column: 1;\n",
       "  color: var(--xr-font-color2);\n",
       "  font-weight: 500;\n",
       "}\n",
       "\n",
       ".xr-section-summary > span {\n",
       "  display: inline-block;\n",
       "  padding-left: 0.5em;\n",
       "}\n",
       "\n",
       ".xr-section-summary-in:disabled + label {\n",
       "  color: var(--xr-font-color2);\n",
       "}\n",
       "\n",
       ".xr-section-summary-in + label:before {\n",
       "  display: inline-block;\n",
       "  content: \"►\";\n",
       "  font-size: 11px;\n",
       "  width: 15px;\n",
       "  text-align: center;\n",
       "}\n",
       "\n",
       ".xr-section-summary-in:disabled + label:before {\n",
       "  color: var(--xr-disabled-color);\n",
       "}\n",
       "\n",
       ".xr-section-summary-in:checked + label:before {\n",
       "  content: \"▼\";\n",
       "}\n",
       "\n",
       ".xr-section-summary-in:checked + label > span {\n",
       "  display: none;\n",
       "}\n",
       "\n",
       ".xr-section-summary,\n",
       ".xr-section-inline-details {\n",
       "  padding-top: 4px;\n",
       "  padding-bottom: 4px;\n",
       "}\n",
       "\n",
       ".xr-section-inline-details {\n",
       "  grid-column: 2 / -1;\n",
       "}\n",
       "\n",
       ".xr-section-details {\n",
       "  display: none;\n",
       "  grid-column: 1 / -1;\n",
       "  margin-bottom: 5px;\n",
       "}\n",
       "\n",
       ".xr-section-summary-in:checked ~ .xr-section-details {\n",
       "  display: contents;\n",
       "}\n",
       "\n",
       ".xr-array-wrap {\n",
       "  grid-column: 1 / -1;\n",
       "  display: grid;\n",
       "  grid-template-columns: 20px auto;\n",
       "}\n",
       "\n",
       ".xr-array-wrap > label {\n",
       "  grid-column: 1;\n",
       "  vertical-align: top;\n",
       "}\n",
       "\n",
       ".xr-preview {\n",
       "  color: var(--xr-font-color3);\n",
       "}\n",
       "\n",
       ".xr-array-preview,\n",
       ".xr-array-data {\n",
       "  padding: 0 5px !important;\n",
       "  grid-column: 2;\n",
       "}\n",
       "\n",
       ".xr-array-data,\n",
       ".xr-array-in:checked ~ .xr-array-preview {\n",
       "  display: none;\n",
       "}\n",
       "\n",
       ".xr-array-in:checked ~ .xr-array-data,\n",
       ".xr-array-preview {\n",
       "  display: inline-block;\n",
       "}\n",
       "\n",
       ".xr-dim-list {\n",
       "  display: inline-block !important;\n",
       "  list-style: none;\n",
       "  padding: 0 !important;\n",
       "  margin: 0;\n",
       "}\n",
       "\n",
       ".xr-dim-list li {\n",
       "  display: inline-block;\n",
       "  padding: 0;\n",
       "  margin: 0;\n",
       "}\n",
       "\n",
       ".xr-dim-list:before {\n",
       "  content: \"(\";\n",
       "}\n",
       "\n",
       ".xr-dim-list:after {\n",
       "  content: \")\";\n",
       "}\n",
       "\n",
       ".xr-dim-list li:not(:last-child):after {\n",
       "  content: \",\";\n",
       "  padding-right: 5px;\n",
       "}\n",
       "\n",
       ".xr-has-index {\n",
       "  font-weight: bold;\n",
       "}\n",
       "\n",
       ".xr-var-list,\n",
       ".xr-var-item {\n",
       "  display: contents;\n",
       "}\n",
       "\n",
       ".xr-var-item > div,\n",
       ".xr-var-item label,\n",
       ".xr-var-item > .xr-var-name span {\n",
       "  background-color: var(--xr-background-color-row-even);\n",
       "  margin-bottom: 0;\n",
       "}\n",
       "\n",
       ".xr-var-item > .xr-var-name:hover span {\n",
       "  padding-right: 5px;\n",
       "}\n",
       "\n",
       ".xr-var-list > li:nth-child(odd) > div,\n",
       ".xr-var-list > li:nth-child(odd) > label,\n",
       ".xr-var-list > li:nth-child(odd) > .xr-var-name span {\n",
       "  background-color: var(--xr-background-color-row-odd);\n",
       "}\n",
       "\n",
       ".xr-var-name {\n",
       "  grid-column: 1;\n",
       "}\n",
       "\n",
       ".xr-var-dims {\n",
       "  grid-column: 2;\n",
       "}\n",
       "\n",
       ".xr-var-dtype {\n",
       "  grid-column: 3;\n",
       "  text-align: right;\n",
       "  color: var(--xr-font-color2);\n",
       "}\n",
       "\n",
       ".xr-var-preview {\n",
       "  grid-column: 4;\n",
       "}\n",
       "\n",
       ".xr-index-preview {\n",
       "  grid-column: 2 / 5;\n",
       "  color: var(--xr-font-color2);\n",
       "}\n",
       "\n",
       ".xr-var-name,\n",
       ".xr-var-dims,\n",
       ".xr-var-dtype,\n",
       ".xr-preview,\n",
       ".xr-attrs dt {\n",
       "  white-space: nowrap;\n",
       "  overflow: hidden;\n",
       "  text-overflow: ellipsis;\n",
       "  padding-right: 10px;\n",
       "}\n",
       "\n",
       ".xr-var-name:hover,\n",
       ".xr-var-dims:hover,\n",
       ".xr-var-dtype:hover,\n",
       ".xr-attrs dt:hover {\n",
       "  overflow: visible;\n",
       "  width: auto;\n",
       "  z-index: 1;\n",
       "}\n",
       "\n",
       ".xr-var-attrs,\n",
       ".xr-var-data,\n",
       ".xr-index-data {\n",
       "  display: none;\n",
       "  background-color: var(--xr-background-color) !important;\n",
       "  padding-bottom: 5px !important;\n",
       "}\n",
       "\n",
       ".xr-var-attrs-in:checked ~ .xr-var-attrs,\n",
       ".xr-var-data-in:checked ~ .xr-var-data,\n",
       ".xr-index-data-in:checked ~ .xr-index-data {\n",
       "  display: block;\n",
       "}\n",
       "\n",
       ".xr-var-data > table {\n",
       "  float: right;\n",
       "}\n",
       "\n",
       ".xr-var-name span,\n",
       ".xr-var-data,\n",
       ".xr-index-name div,\n",
       ".xr-index-data,\n",
       ".xr-attrs {\n",
       "  padding-left: 25px !important;\n",
       "}\n",
       "\n",
       ".xr-attrs,\n",
       ".xr-var-attrs,\n",
       ".xr-var-data,\n",
       ".xr-index-data {\n",
       "  grid-column: 1 / -1;\n",
       "}\n",
       "\n",
       "dl.xr-attrs {\n",
       "  padding: 0;\n",
       "  margin: 0;\n",
       "  display: grid;\n",
       "  grid-template-columns: 125px auto;\n",
       "}\n",
       "\n",
       ".xr-attrs dt,\n",
       ".xr-attrs dd {\n",
       "  padding: 0;\n",
       "  margin: 0;\n",
       "  float: left;\n",
       "  padding-right: 10px;\n",
       "  width: auto;\n",
       "}\n",
       "\n",
       ".xr-attrs dt {\n",
       "  font-weight: normal;\n",
       "  grid-column: 1;\n",
       "}\n",
       "\n",
       ".xr-attrs dt:hover span {\n",
       "  display: inline-block;\n",
       "  background: var(--xr-background-color);\n",
       "  padding-right: 10px;\n",
       "}\n",
       "\n",
       ".xr-attrs dd {\n",
       "  grid-column: 2;\n",
       "  white-space: pre-wrap;\n",
       "  word-break: break-all;\n",
       "}\n",
       "\n",
       ".xr-icon-database,\n",
       ".xr-icon-file-text2,\n",
       ".xr-no-icon {\n",
       "  display: inline-block;\n",
       "  vertical-align: middle;\n",
       "  width: 1em;\n",
       "  height: 1.5em !important;\n",
       "  stroke-width: 0;\n",
       "  stroke: currentColor;\n",
       "  fill: currentColor;\n",
       "}\n",
       "</style><pre class='xr-text-repr-fallback'>&lt;xarray.DataArray &#x27;t2m&#x27; (time: 14610, latitude: 721, longitude: 1440)&gt; Size: 121GB\n",
       "[15168686400 values with dtype=float64]\n",
       "Coordinates:\n",
       "  * longitude  (longitude) float32 6kB -180.0 -179.8 -179.5 ... 179.5 179.8\n",
       "  * latitude   (latitude) float32 3kB 90.0 89.75 89.5 ... -89.5 -89.75 -90.0\n",
       "  * time       (time) datetime64[ns] 117kB 1984-01-01 1984-01-02 ... 2023-12-31\n",
       "Attributes:\n",
       "    units:      K\n",
       "    long_name:  2 metre temperature</pre><div class='xr-wrap' style='display:none'><div class='xr-header'><div class='xr-obj-type'>xarray.DataArray</div><div class='xr-array-name'>'t2m'</div><ul class='xr-dim-list'><li><span class='xr-has-index'>time</span>: 14610</li><li><span class='xr-has-index'>latitude</span>: 721</li><li><span class='xr-has-index'>longitude</span>: 1440</li></ul></div><ul class='xr-sections'><li class='xr-section-item'><div class='xr-array-wrap'><input id='section-77f21eea-3e44-4738-8ab4-fe9a401db0d1' class='xr-array-in' type='checkbox' checked><label for='section-77f21eea-3e44-4738-8ab4-fe9a401db0d1' title='Show/hide data repr'><svg class='icon xr-icon-database'><use xlink:href='#icon-database'></use></svg></label><div class='xr-array-preview xr-preview'><span>...</span></div><div class='xr-array-data'><pre>[15168686400 values with dtype=float64]</pre></div></div></li><li class='xr-section-item'><input id='section-560535e4-8a55-4abc-b7f6-66870d09ebab' class='xr-section-summary-in' type='checkbox'  checked><label for='section-560535e4-8a55-4abc-b7f6-66870d09ebab' class='xr-section-summary' >Coordinates: <span>(3)</span></label><div class='xr-section-inline-details'></div><div class='xr-section-details'><ul class='xr-var-list'><li class='xr-var-item'><div class='xr-var-name'><span class='xr-has-index'>longitude</span></div><div class='xr-var-dims'>(longitude)</div><div class='xr-var-dtype'>float32</div><div class='xr-var-preview xr-preview'>-180.0 -179.8 ... 179.5 179.8</div><input id='attrs-16321749-c4d0-4b9e-b43b-31d9c9d16b07' class='xr-var-attrs-in' type='checkbox' ><label for='attrs-16321749-c4d0-4b9e-b43b-31d9c9d16b07' title='Show/Hide attributes'><svg class='icon xr-icon-file-text2'><use xlink:href='#icon-file-text2'></use></svg></label><input id='data-746f0bb2-003a-4b14-afe5-b74e13207d01' class='xr-var-data-in' type='checkbox'><label for='data-746f0bb2-003a-4b14-afe5-b74e13207d01' title='Show/Hide data repr'><svg class='icon xr-icon-database'><use xlink:href='#icon-database'></use></svg></label><div class='xr-var-attrs'><dl class='xr-attrs'><dt><span>units :</span></dt><dd>degrees_east</dd><dt><span>long_name :</span></dt><dd>longitude</dd></dl></div><div class='xr-var-data'><pre>array([-180.  , -179.75, -179.5 , ...,  179.25,  179.5 ,  179.75],\n",
       "      dtype=float32)</pre></div></li><li class='xr-var-item'><div class='xr-var-name'><span class='xr-has-index'>latitude</span></div><div class='xr-var-dims'>(latitude)</div><div class='xr-var-dtype'>float32</div><div class='xr-var-preview xr-preview'>90.0 89.75 89.5 ... -89.75 -90.0</div><input id='attrs-f9fce661-9efc-4c04-b1b6-5c74683147cc' class='xr-var-attrs-in' type='checkbox' ><label for='attrs-f9fce661-9efc-4c04-b1b6-5c74683147cc' title='Show/Hide attributes'><svg class='icon xr-icon-file-text2'><use xlink:href='#icon-file-text2'></use></svg></label><input id='data-ee021f87-d8bb-4564-b397-d2c2a1bd279f' class='xr-var-data-in' type='checkbox'><label for='data-ee021f87-d8bb-4564-b397-d2c2a1bd279f' title='Show/Hide data repr'><svg class='icon xr-icon-database'><use xlink:href='#icon-database'></use></svg></label><div class='xr-var-attrs'><dl class='xr-attrs'><dt><span>units :</span></dt><dd>degrees_north</dd><dt><span>long_name :</span></dt><dd>latitude</dd></dl></div><div class='xr-var-data'><pre>array([ 90.  ,  89.75,  89.5 , ..., -89.5 , -89.75, -90.  ], dtype=float32)</pre></div></li><li class='xr-var-item'><div class='xr-var-name'><span class='xr-has-index'>time</span></div><div class='xr-var-dims'>(time)</div><div class='xr-var-dtype'>datetime64[ns]</div><div class='xr-var-preview xr-preview'>1984-01-01 ... 2023-12-31</div><input id='attrs-2c794d38-e557-487d-ac93-26b0dd025b34' class='xr-var-attrs-in' type='checkbox' ><label for='attrs-2c794d38-e557-487d-ac93-26b0dd025b34' title='Show/Hide attributes'><svg class='icon xr-icon-file-text2'><use xlink:href='#icon-file-text2'></use></svg></label><input id='data-9a4f89ea-9865-498d-8057-2a38f3c06584' class='xr-var-data-in' type='checkbox'><label for='data-9a4f89ea-9865-498d-8057-2a38f3c06584' title='Show/Hide data repr'><svg class='icon xr-icon-database'><use xlink:href='#icon-database'></use></svg></label><div class='xr-var-attrs'><dl class='xr-attrs'><dt><span>long_name :</span></dt><dd>time</dd></dl></div><div class='xr-var-data'><pre>array([&#x27;1984-01-01T00:00:00.000000000&#x27;, &#x27;1984-01-02T00:00:00.000000000&#x27;,\n",
       "       &#x27;1984-01-03T00:00:00.000000000&#x27;, ..., &#x27;2023-12-29T00:00:00.000000000&#x27;,\n",
       "       &#x27;2023-12-30T00:00:00.000000000&#x27;, &#x27;2023-12-31T00:00:00.000000000&#x27;],\n",
       "      dtype=&#x27;datetime64[ns]&#x27;)</pre></div></li></ul></div></li><li class='xr-section-item'><input id='section-b76a0ae1-ba84-4f00-9ab0-79651d0b4b91' class='xr-section-summary-in' type='checkbox'  ><label for='section-b76a0ae1-ba84-4f00-9ab0-79651d0b4b91' class='xr-section-summary' >Indexes: <span>(3)</span></label><div class='xr-section-inline-details'></div><div class='xr-section-details'><ul class='xr-var-list'><li class='xr-var-item'><div class='xr-index-name'><div>longitude</div></div><div class='xr-index-preview'>PandasIndex</div><input type='checkbox' disabled/><label></label><input id='index-a21dbe14-39de-4b72-99d1-ae9b0db957c3' class='xr-index-data-in' type='checkbox'/><label for='index-a21dbe14-39de-4b72-99d1-ae9b0db957c3' title='Show/Hide index repr'><svg class='icon xr-icon-database'><use xlink:href='#icon-database'></use></svg></label><div class='xr-index-data'><pre>PandasIndex(Index([ -180.0, -179.75,  -179.5, -179.25,  -179.0, -178.75,  -178.5, -178.25,\n",
       "        -178.0, -177.75,\n",
       "       ...\n",
       "         177.5,  177.75,   178.0,  178.25,   178.5,  178.75,   179.0,  179.25,\n",
       "         179.5,  179.75],\n",
       "      dtype=&#x27;float32&#x27;, name=&#x27;longitude&#x27;, length=1440))</pre></div></li><li class='xr-var-item'><div class='xr-index-name'><div>latitude</div></div><div class='xr-index-preview'>PandasIndex</div><input type='checkbox' disabled/><label></label><input id='index-7587a8bd-19b9-4a39-930a-11291e53ae25' class='xr-index-data-in' type='checkbox'/><label for='index-7587a8bd-19b9-4a39-930a-11291e53ae25' title='Show/Hide index repr'><svg class='icon xr-icon-database'><use xlink:href='#icon-database'></use></svg></label><div class='xr-index-data'><pre>PandasIndex(Index([  90.0,  89.75,   89.5,  89.25,   89.0,  88.75,   88.5,  88.25,   88.0,\n",
       "        87.75,\n",
       "       ...\n",
       "       -87.75,  -88.0, -88.25,  -88.5, -88.75,  -89.0, -89.25,  -89.5, -89.75,\n",
       "        -90.0],\n",
       "      dtype=&#x27;float32&#x27;, name=&#x27;latitude&#x27;, length=721))</pre></div></li><li class='xr-var-item'><div class='xr-index-name'><div>time</div></div><div class='xr-index-preview'>PandasIndex</div><input type='checkbox' disabled/><label></label><input id='index-4e5dbf2a-1342-4c50-9d6d-409cd32b2b12' class='xr-index-data-in' type='checkbox'/><label for='index-4e5dbf2a-1342-4c50-9d6d-409cd32b2b12' title='Show/Hide index repr'><svg class='icon xr-icon-database'><use xlink:href='#icon-database'></use></svg></label><div class='xr-index-data'><pre>PandasIndex(DatetimeIndex([&#x27;1984-01-01&#x27;, &#x27;1984-01-02&#x27;, &#x27;1984-01-03&#x27;, &#x27;1984-01-04&#x27;,\n",
       "               &#x27;1984-01-05&#x27;, &#x27;1984-01-06&#x27;, &#x27;1984-01-07&#x27;, &#x27;1984-01-08&#x27;,\n",
       "               &#x27;1984-01-09&#x27;, &#x27;1984-01-10&#x27;,\n",
       "               ...\n",
       "               &#x27;2023-12-22&#x27;, &#x27;2023-12-23&#x27;, &#x27;2023-12-24&#x27;, &#x27;2023-12-25&#x27;,\n",
       "               &#x27;2023-12-26&#x27;, &#x27;2023-12-27&#x27;, &#x27;2023-12-28&#x27;, &#x27;2023-12-29&#x27;,\n",
       "               &#x27;2023-12-30&#x27;, &#x27;2023-12-31&#x27;],\n",
       "              dtype=&#x27;datetime64[ns]&#x27;, name=&#x27;time&#x27;, length=14610, freq=None))</pre></div></li></ul></div></li><li class='xr-section-item'><input id='section-04279418-875a-40cc-b1a5-601c94c792d3' class='xr-section-summary-in' type='checkbox'  checked><label for='section-04279418-875a-40cc-b1a5-601c94c792d3' class='xr-section-summary' >Attributes: <span>(2)</span></label><div class='xr-section-inline-details'></div><div class='xr-section-details'><dl class='xr-attrs'><dt><span>units :</span></dt><dd>K</dd><dt><span>long_name :</span></dt><dd>2 metre temperature</dd></dl></div></li></ul></div></div>"
      ],
      "text/plain": [
       "<xarray.DataArray 't2m' (time: 14610, latitude: 721, longitude: 1440)> Size: 121GB\n",
       "[15168686400 values with dtype=float64]\n",
       "Coordinates:\n",
       "  * longitude  (longitude) float32 6kB -180.0 -179.8 -179.5 ... 179.5 179.8\n",
       "  * latitude   (latitude) float32 3kB 90.0 89.75 89.5 ... -89.5 -89.75 -90.0\n",
       "  * time       (time) datetime64[ns] 117kB 1984-01-01 1984-01-02 ... 2023-12-31\n",
       "Attributes:\n",
       "    units:      K\n",
       "    long_name:  2 metre temperature"
      ]
     },
     "execution_count": 3,
     "metadata": {},
     "output_type": "execute_result"
    }
   ],
   "source": [
    "# Access the variable (e.g., 't2m')\n",
    "t2m = ds['t2m']\n",
    "t2m"
   ]
  },
  {
   "cell_type": "markdown",
   "metadata": {},
   "source": [
    "Cube Chunk (200x200x200)"
   ]
  },
  {
   "cell_type": "code",
   "execution_count": 4,
   "metadata": {},
   "outputs": [],
   "source": [
    "#First cube chunk (0, 200)\n",
    "cube_chunk1 = t2m.isel(latitude=slice(0, 200), longitude=slice(0, 200), time=slice(0, 200)).compute()\n",
    "cube_chunk1\n",
    "cube_chunk1.to_netcdf('cube1.nc')"
   ]
  },
  {
   "cell_type": "code",
   "execution_count": 5,
   "metadata": {},
   "outputs": [],
   "source": [
    "#Second cube chunk (200, 400)\n",
    "cube_chunk2 = t2m.isel(latitude=slice(200, 400), longitude=slice(200, 400), time=slice(200, 400)).compute()\n",
    "cube_chunk2\n",
    "cube_chunk2.to_netcdf('cube2.nc')"
   ]
  },
  {
   "cell_type": "code",
   "execution_count": 6,
   "metadata": {},
   "outputs": [],
   "source": [
    "#Third cube chunk (400, 600)\n",
    "cube_chunk3 = t2m.isel(latitude=slice(400, 600), longitude=slice(400, 600), time=slice(400, 600)).compute()\n",
    "cube_chunk3\n",
    "cube_chunk3.to_netcdf('cube3.nc')"
   ]
  },
  {
   "cell_type": "code",
   "execution_count": 7,
   "metadata": {},
   "outputs": [
    {
     "name": "stdout",
     "output_type": "stream",
     "text": [
      "Cube 1 size on disk: 15.27 MB\n",
      "Cube 2 size on disk: 15.27 MB\n",
      "Cube 3 size on disk: 15.27 MB\n"
     ]
    }
   ],
   "source": [
    "#Size of all cube chuncks\n",
    "\n",
    "for i in range (3):\n",
    "    file_path= f\"cube{i+1}.nc\"\n",
    "    file_size_bytes = os.path.getsize(file_path)\n",
    "    print(f\"Cube {i+1} size on disk: {file_size_bytes / (1024**2):.2f} MB\")\n",
    "    \n",
    "    \n"
   ]
  },
  {
   "cell_type": "code",
   "execution_count": 8,
   "metadata": {},
   "outputs": [
    {
     "name": "stdout",
     "output_type": "stream",
     "text": [
      "<xarray.Dataset> Size: 1MB\n",
      "Dimensions:    (longitude: 50, latitude: 50, time: 50)\n",
      "Coordinates:\n",
      "  * longitude  (longitude) float32 200B -180.0 -179.8 -179.5 ... -168.0 -167.8\n",
      "  * latitude   (latitude) float32 200B 90.0 89.75 89.5 ... 78.25 78.0 77.75\n",
      "  * time       (time) datetime64[ns] 400B 1984-01-01 1984-01-02 ... 1984-02-19\n",
      "Data variables:\n",
      "    t2m        (time, latitude, longitude) float64 1MB 248.7 248.7 ... 245.6\n",
      "Execution time: 0.025914907455444336 s \n",
      "Accessed data size: 0.95 MB\n"
     ]
    }
   ],
   "source": [
    "#Range query using the cube access pattern on the first cube chunk\n",
    "start = time.time()\n",
    "q1_ds = xr.open_dataset('cube1.nc')\n",
    "q1 = q1_ds.isel(time=slice(0, 50), latitude=slice(0, 50), longitude=slice(0, 50)).compute()\n",
    "end = time.time()\n",
    "execution_time = end - start\n",
    "print(q1)\n",
    "print(f\"Execution time: {execution_time} s \")\n",
    "#Calculating the size of the accessed data\n",
    "accessed_size_bytes = q1.nbytes\n",
    "accessed_size_mb = accessed_size_bytes / (1024**2)\n",
    "print(f\"Accessed data size: {accessed_size_mb:.2f} MB\")"
   ]
  },
  {
   "cell_type": "code",
   "execution_count": null,
   "metadata": {},
   "outputs": [],
   "source": [
    "q1"
   ]
  },
  {
   "cell_type": "code",
   "execution_count": 9,
   "metadata": {},
   "outputs": [
    {
     "name": "stdout",
     "output_type": "stream",
     "text": [
      "<xarray.Dataset> Size: 1MB\n",
      "Dimensions:    (longitude: 50, latitude: 50, time: 50)\n",
      "Coordinates:\n",
      "  * longitude  (longitude) float32 200B -130.0 -129.8 -129.5 ... -118.0 -117.8\n",
      "  * latitude   (latitude) float32 200B 40.0 39.75 39.5 ... 28.25 28.0 27.75\n",
      "  * time       (time) datetime64[ns] 400B 1984-07-19 1984-07-20 ... 1984-09-06\n",
      "Data variables:\n",
      "    t2m        (time, latitude, longitude) float64 1MB 287.7 287.7 ... 295.7\n",
      "Execution time: 0.024009227752685547 s \n",
      "Accessed data size: 0.95 MB\n"
     ]
    }
   ],
   "source": [
    "#Range query using the cube access pattern on the second cube chunk\n",
    "start = time.time()\n",
    "q1_ds = xr.open_dataset('cube2.nc')\n",
    "q1 = q1_ds.isel(time=slice(0, 50), latitude=slice(0, 50), longitude=slice(0, 50)).compute()\n",
    "end = time.time()\n",
    "execution_time = end - start\n",
    "print(q1)\n",
    "print(f\"Execution time: {execution_time} s \")\n",
    "#Calculating the size of the accessed data\n",
    "accessed_size_bytes = q1.nbytes\n",
    "accessed_size_mb = accessed_size_bytes / (1024**2)\n",
    "print(f\"Accessed data size: {accessed_size_mb:.2f} MB\")"
   ]
  },
  {
   "cell_type": "code",
   "execution_count": 10,
   "metadata": {},
   "outputs": [
    {
     "name": "stdout",
     "output_type": "stream",
     "text": [
      "<xarray.Dataset> Size: 1MB\n",
      "Dimensions:    (longitude: 50, latitude: 50, time: 50)\n",
      "Coordinates:\n",
      "  * longitude  (longitude) float32 200B -80.0 -79.75 -79.5 ... -68.0 -67.75\n",
      "  * latitude   (latitude) float32 200B -10.0 -10.25 -10.5 ... -22.0 -22.25\n",
      "  * time       (time) datetime64[ns] 400B 1985-02-04 1985-02-05 ... 1985-03-25\n",
      "Data variables:\n",
      "    t2m        (time, latitude, longitude) float64 1MB 296.4 296.1 ... 276.1\n",
      "Execution time: 0.03533434867858887 s \n",
      "Accessed data size: 0.95 MB\n"
     ]
    }
   ],
   "source": [
    "#Range query using the cube access pattern on the third cube chunk\n",
    "start = time.time()\n",
    "q1_ds = xr.open_dataset('cube3.nc')\n",
    "q1 = q1_ds.isel(time=slice(0, 50), latitude=slice(0, 50), longitude=slice(0, 50)).compute()\n",
    "end = time.time()\n",
    "execution_time = end - start\n",
    "print(q1)\n",
    "print(f\"Execution time: {execution_time} s \")\n",
    "#Calculating the size of the accessed data\n",
    "accessed_size_bytes = q1.nbytes\n",
    "accessed_size_mb = accessed_size_bytes / (1024**2)\n",
    "print(f\"Accessed data size: {accessed_size_mb:.2f} MB\")"
   ]
  },
  {
   "cell_type": "code",
   "execution_count": null,
   "metadata": {},
   "outputs": [],
   "source": [
    "#Merge queries from the same file\n",
    "start = time.time()\n",
    "cube_ds_list = []\n",
    "cube_ds = xr.open_dataset('cube1.nc')\n",
    "for i in range(1, 50):\n",
    "    cube_query = cube_ds.isel(time=slice(0, i), latitude=slice(0, i), longitude=slice(0, i)).compute()\n",
    "    cube_ds_list.append(cube_query)\n",
    "cube_result = xr.merge(cube_ds_list).compute()\n",
    "end = time.time()\n",
    "execution_time = end - start\n",
    "print(cube_result)\n",
    "execution_time"
   ]
  },
  {
   "cell_type": "code",
   "execution_count": null,
   "metadata": {},
   "outputs": [],
   "source": [
    "#Merge query results from different files\n",
    "start = time.time()\n",
    "cube_ds_list = []\n",
    "cube_files = ['cube1.nc', 'cube2.nc', 'cube3.nc']\n",
    "for file in cube_files:\n",
    "    cube_ds = xr.open_dataset(file)\n",
    "    cube_query = cube_ds.isel(time=slice(0, 50), latitude=slice(0, 50), longitude=slice(0, 50)).compute()\n",
    "    cube_ds_list.append(cube_query)\n",
    "merge_cube_result = xr.merge(cube_ds_list).compute()\n",
    "end = time.time()\n",
    "execution_time = end - start\n",
    "print(merge_cube_result)\n",
    "execution_time"
   ]
  },
  {
   "cell_type": "code",
   "execution_count": null,
   "metadata": {},
   "outputs": [],
   "source": [
    "merge_cube_result"
   ]
  },
  {
   "cell_type": "markdown",
   "metadata": {},
   "source": [
    "NAN values because of different dimension values.\n",
    " \n",
    "For example, if one chunk has latitude values from 0 to 199, and another chunk has latitude values from 200 to 399, xarray will not automatically align them, leading to NaN values where the coordinates do not match."
   ]
  },
  {
   "cell_type": "code",
   "execution_count": 23,
   "metadata": {},
   "outputs": [
    {
     "name": "stdout",
     "output_type": "stream",
     "text": [
      "<xarray.Dataset> Size: 32kB\n",
      "Dimensions:    (longitude: 10, latitude: 10, time: 40)\n",
      "Coordinates:\n",
      "  * longitude  (longitude) float32 40B -180.0 -179.8 -179.5 ... -178.0 -177.8\n",
      "  * latitude   (latitude) float32 40B 90.0 89.75 89.5 89.25 ... 88.25 88.0 87.75\n",
      "  * time       (time) datetime64[ns] 320B 1984-01-01 1984-01-02 ... 1984-02-09\n",
      "Data variables:\n",
      "    t2m        (time, latitude, longitude) float64 32kB 248.7 248.7 ... 243.9\n",
      "Execution time: 0.016068220138549805 s \n",
      "Accessed data size: 0.03 MB\n"
     ]
    }
   ],
   "source": [
    "#Range query using the vertical cuboid access pattern on the first cube chunk\n",
    "#(10x10x40)\n",
    "start = time.time()\n",
    "q2_ds = xr.open_dataset('cube1.nc')\n",
    "q2 = q2_ds.isel(time=slice(0, 40), latitude=slice(0, 10), longitude=slice(0, 10)).compute()\n",
    "end = time.time()\n",
    "execution_time = end - start\n",
    "print(q2)\n",
    "print(f\"Execution time: {execution_time} s \")\n",
    "#Calculating the size of the accessed data\n",
    "accessed_size_bytes = q2.nbytes\n",
    "accessed_size_mb = accessed_size_bytes / (1024**2)\n",
    "print(f\"Accessed data size: {accessed_size_mb:.2f} MB\")"
   ]
  },
  {
   "cell_type": "code",
   "execution_count": 29,
   "metadata": {},
   "outputs": [
    {
     "name": "stdout",
     "output_type": "stream",
     "text": [
      "<xarray.Dataset> Size: 1MB\n",
      "Dimensions:    (longitude: 40, latitude: 40, time: 100)\n",
      "Coordinates:\n",
      "  * longitude  (longitude) float32 160B -180.0 -179.8 -179.5 ... -170.5 -170.2\n",
      "  * latitude   (latitude) float32 160B 90.0 89.75 89.5 ... 80.75 80.5 80.25\n",
      "  * time       (time) datetime64[ns] 800B 1984-01-01 1984-01-02 ... 1984-04-09\n",
      "Data variables:\n",
      "    t2m        (time, latitude, longitude) float64 1MB 248.7 248.7 ... 247.3\n",
      "Execution time: 0.028816938400268555 s \n",
      "Accessed data size: 1.22 MB\n"
     ]
    }
   ],
   "source": [
    "#Range query using the vertical cuboid access pattern on the first cube chunk\n",
    "#(40x40x100)\n",
    "start = time.time()\n",
    "q2_ds = xr.open_dataset('cube1.nc')\n",
    "q2 = q2_ds.isel(time=slice(0, 100), latitude=slice(0, 40), longitude=slice(0, 40)).compute()\n",
    "end = time.time()\n",
    "execution_time = end - start\n",
    "print(q2)\n",
    "print(f\"Execution time: {execution_time} s \")\n",
    "#Calculating the size of the accessed data\n",
    "accessed_size_bytes = q2.nbytes\n",
    "accessed_size_mb = accessed_size_bytes / (1024**2)\n",
    "print(f\"Accessed data size: {accessed_size_mb:.2f} MB\")"
   ]
  },
  {
   "cell_type": "code",
   "execution_count": 24,
   "metadata": {},
   "outputs": [
    {
     "name": "stdout",
     "output_type": "stream",
     "text": [
      "<xarray.Dataset> Size: 32kB\n",
      "Dimensions:    (longitude: 10, latitude: 10, time: 40)\n",
      "Coordinates:\n",
      "  * longitude  (longitude) float32 40B -130.0 -129.8 -129.5 ... -128.0 -127.8\n",
      "  * latitude   (latitude) float32 40B 40.0 39.75 39.5 39.25 ... 38.25 38.0 37.75\n",
      "  * time       (time) datetime64[ns] 320B 1984-07-19 1984-07-20 ... 1984-08-27\n",
      "Data variables:\n",
      "    t2m        (time, latitude, longitude) float64 32kB 287.7 287.7 ... 290.6\n",
      "Execution time: 0.04691886901855469 s \n",
      "Accessed data size: 0.03 MB\n"
     ]
    }
   ],
   "source": [
    "#Range query using the vertical cuboid access pattern on the second cube chunk\n",
    "#(10x10x40)\n",
    "start = time.time()\n",
    "q2_ds = xr.open_dataset('cube2.nc')\n",
    "q2 = q2_ds.isel(time=slice(0, 40), latitude=slice(0, 10), longitude=slice(0, 10)).compute()\n",
    "end = time.time()\n",
    "execution_time = end - start\n",
    "print(q2)\n",
    "print(f\"Execution time: {execution_time} s \")\n",
    "#Calculating the size of the accessed data\n",
    "accessed_size_bytes = q2.nbytes\n",
    "accessed_size_mb = accessed_size_bytes / (1024**2)\n",
    "print(f\"Accessed data size: {accessed_size_mb:.2f} MB\")"
   ]
  },
  {
   "cell_type": "code",
   "execution_count": 30,
   "metadata": {},
   "outputs": [
    {
     "name": "stdout",
     "output_type": "stream",
     "text": [
      "<xarray.Dataset> Size: 1MB\n",
      "Dimensions:    (longitude: 40, latitude: 40, time: 100)\n",
      "Coordinates:\n",
      "  * longitude  (longitude) float32 160B -130.0 -129.8 -129.5 ... -120.5 -120.2\n",
      "  * latitude   (latitude) float32 160B 40.0 39.75 39.5 ... 30.75 30.5 30.25\n",
      "  * time       (time) datetime64[ns] 800B 1984-07-19 1984-07-20 ... 1984-10-26\n",
      "Data variables:\n",
      "    t2m        (time, latitude, longitude) float64 1MB 287.7 287.7 ... 290.8\n",
      "Execution time: 0.028264760971069336 s \n",
      "Accessed data size: 1.22 MB\n"
     ]
    }
   ],
   "source": [
    "#Range query using the vertical cuboid access pattern on the second cube chunk\n",
    "#(40x40x100)\n",
    "start = time.time()\n",
    "q2_ds = xr.open_dataset('cube2.nc')\n",
    "q2 = q2_ds.isel(time=slice(0, 100), latitude=slice(0, 40), longitude=slice(0, 40)).compute()\n",
    "end = time.time()\n",
    "execution_time = end - start\n",
    "print(q2)\n",
    "print(f\"Execution time: {execution_time} s \")\n",
    "#Calculating the size of the accessed data\n",
    "accessed_size_bytes = q2.nbytes\n",
    "accessed_size_mb = accessed_size_bytes / (1024**2)\n",
    "print(f\"Accessed data size: {accessed_size_mb:.2f} MB\")"
   ]
  },
  {
   "cell_type": "code",
   "execution_count": 35,
   "metadata": {},
   "outputs": [
    {
     "name": "stdout",
     "output_type": "stream",
     "text": [
      "<xarray.Dataset> Size: 2MB\n",
      "Dimensions:    (longitude: 100, latitude: 100, time: 25)\n",
      "Coordinates:\n",
      "  * longitude  (longitude) float32 400B -180.0 -179.8 -179.5 ... -155.5 -155.2\n",
      "  * latitude   (latitude) float32 400B 90.0 89.75 89.5 ... 65.75 65.5 65.25\n",
      "  * time       (time) datetime64[ns] 200B 1984-01-01 1984-01-02 ... 1984-01-25\n",
      "Data variables:\n",
      "    t2m        (time, latitude, longitude) float64 2MB 248.7 248.7 ... 235.8\n",
      "Execution time: 0.029001951217651367 s \n",
      "Accessed data size: 1.91 MB\n"
     ]
    }
   ],
   "source": [
    "#Range query using the horizontal cuboid access pattern on the first cube chunk\n",
    "#(100x100x25)\n",
    "start = time.time()\n",
    "q3_ds = xr.open_dataset('cube1.nc')\n",
    "q3 = q3_ds.isel(time=slice(0, 25), latitude=slice(0, 100), longitude=slice(0, 100)).compute()\n",
    "end = time.time()\n",
    "execution_time = end - start\n",
    "print(q3)\n",
    "print(f\"Execution time: {execution_time} s \")\n",
    "#Calculating the size of the accessed data\n",
    "accessed_size_bytes = q3.nbytes\n",
    "accessed_size_mb = accessed_size_bytes / (1024**2)\n",
    "print(f\"Accessed data size: {accessed_size_mb:.2f} MB\")"
   ]
  },
  {
   "cell_type": "code",
   "execution_count": 36,
   "metadata": {},
   "outputs": [
    {
     "name": "stdout",
     "output_type": "stream",
     "text": [
      "<xarray.Dataset> Size: 2MB\n",
      "Dimensions:    (longitude: 100, latitude: 100, time: 25)\n",
      "Coordinates:\n",
      "  * longitude  (longitude) float32 400B -130.0 -129.8 -129.5 ... -105.5 -105.2\n",
      "  * latitude   (latitude) float32 400B 40.0 39.75 39.5 ... 15.75 15.5 15.25\n",
      "  * time       (time) datetime64[ns] 200B 1984-07-19 1984-07-20 ... 1984-08-12\n",
      "Data variables:\n",
      "    t2m        (time, latitude, longitude) float64 2MB 287.7 287.7 ... 300.2\n",
      "Execution time: 0.023001670837402344 s \n",
      "Accessed data size: 1.91 MB\n"
     ]
    }
   ],
   "source": [
    "#Range query using the horizontal cuboid access pattern on the second cube chunk\n",
    "#(100x100x25)\n",
    "start = time.time()\n",
    "q3_ds = xr.open_dataset('cube2.nc')\n",
    "q3 = q3_ds.isel(time=slice(0, 25), latitude=slice(0, 100), longitude=slice(0, 100)).compute()\n",
    "end = time.time()\n",
    "execution_time = end - start\n",
    "print(q3)\n",
    "print(f\"Execution time: {execution_time} s \")\n",
    "#Calculating the size of the accessed data\n",
    "accessed_size_bytes = q3.nbytes\n",
    "accessed_size_mb = accessed_size_bytes / (1024**2)\n",
    "print(f\"Accessed data size: {accessed_size_mb:.2f} MB\")"
   ]
  },
  {
   "cell_type": "markdown",
   "metadata": {},
   "source": [
    "Vertical Cuboid (100x100x800)"
   ]
  },
  {
   "cell_type": "code",
   "execution_count": 13,
   "metadata": {},
   "outputs": [],
   "source": [
    "#First cuboid chunk \n",
    "cuboidv_chunk1 = t2m.isel(latitude=slice(0, 100), longitude=slice(0, 100), time=slice(0, 800)).compute()\n",
    "cuboidv_chunk1\n",
    "cuboidv_chunk1.to_netcdf('cuboidv1.nc')"
   ]
  },
  {
   "cell_type": "code",
   "execution_count": 14,
   "metadata": {},
   "outputs": [],
   "source": [
    "#Second cuboid chunk \n",
    "cuboidv_chunk1 = t2m.isel(latitude=slice(100, 200), longitude=slice(100, 200), time=slice(800, 1600)).compute()\n",
    "cuboidv_chunk1\n",
    "cuboidv_chunk1.to_netcdf('cuboidv2.nc')"
   ]
  },
  {
   "cell_type": "code",
   "execution_count": 15,
   "metadata": {},
   "outputs": [
    {
     "name": "stdout",
     "output_type": "stream",
     "text": [
      "Cuboid 1 size on disk: 15.27 MB\n",
      "Cuboid 2 size on disk: 15.27 MB\n"
     ]
    }
   ],
   "source": [
    "#Size of all cuboid chuncks\n",
    "\n",
    "for i in range (2):\n",
    "    file_path= f\"cuboidv{i+1}.nc\"\n",
    "    file_size_bytes = os.path.getsize(file_path)\n",
    "    print(f\"Cuboid {i+1} size on disk: {file_size_bytes / (1024**2):.2f} MB\")"
   ]
  },
  {
   "cell_type": "code",
   "execution_count": 16,
   "metadata": {},
   "outputs": [
    {
     "name": "stdout",
     "output_type": "stream",
     "text": [
      "<xarray.Dataset> Size: 1MB\n",
      "Dimensions:    (longitude: 50, latitude: 50, time: 50)\n",
      "Coordinates:\n",
      "  * longitude  (longitude) float32 200B -180.0 -179.8 -179.5 ... -168.0 -167.8\n",
      "  * latitude   (latitude) float32 200B 90.0 89.75 89.5 ... 78.25 78.0 77.75\n",
      "  * time       (time) datetime64[ns] 400B 1984-01-01 1984-01-02 ... 1984-02-19\n",
      "Data variables:\n",
      "    t2m        (time, latitude, longitude) float64 1MB 248.7 248.7 ... 245.6\n",
      "Execution time: 0.03468918800354004 s \n",
      "Accessed data size: 0.95 MB\n"
     ]
    }
   ],
   "source": [
    "#Range query using the cube access pattern on the first vertical cuboid chunk\n",
    "start = time.time()\n",
    "q1_ds = xr.open_dataset('cuboidv1.nc')\n",
    "q1 = q1_ds.isel(time=slice(0, 50), latitude=slice(0, 50), longitude=slice(0, 50)).compute()\n",
    "end = time.time()\n",
    "execution_time = end - start\n",
    "print(q1)\n",
    "print(f\"Execution time: {execution_time} s \")\n",
    "#Calculating the size of the accessed data\n",
    "accessed_size_bytes = q1.nbytes\n",
    "accessed_size_mb = accessed_size_bytes / (1024**2)\n",
    "print(f\"Accessed data size: {accessed_size_mb:.2f} MB\")"
   ]
  },
  {
   "cell_type": "code",
   "execution_count": 17,
   "metadata": {},
   "outputs": [
    {
     "name": "stdout",
     "output_type": "stream",
     "text": [
      "<xarray.Dataset> Size: 1MB\n",
      "Dimensions:    (longitude: 50, latitude: 50, time: 50)\n",
      "Coordinates:\n",
      "  * longitude  (longitude) float32 200B -155.0 -154.8 -154.5 ... -143.0 -142.8\n",
      "  * latitude   (latitude) float32 200B 65.0 64.75 64.5 ... 53.25 53.0 52.75\n",
      "  * time       (time) datetime64[ns] 400B 1986-03-11 1986-03-12 ... 1986-04-29\n",
      "Data variables:\n",
      "    t2m        (time, latitude, longitude) float64 1MB 253.9 254.0 ... 279.0\n",
      "Execution time: 0.014892578125 s \n",
      "Accessed data size: 0.95 MB\n"
     ]
    }
   ],
   "source": [
    "#Range query using the cube access pattern on the second vertical cuboid chunk\n",
    "start = time.time()\n",
    "q1_ds = xr.open_dataset('cuboidv2.nc')\n",
    "q1 = q1_ds.isel(time=slice(0, 50), latitude=slice(0, 50), longitude=slice(0, 50)).compute()\n",
    "end = time.time()\n",
    "execution_time = end - start\n",
    "print(q1)\n",
    "print(f\"Execution time: {execution_time} s \")\n",
    "#Calculating the size of the accessed data\n",
    "accessed_size_bytes = q1.nbytes\n",
    "accessed_size_mb = accessed_size_bytes / (1024**2)\n",
    "print(f\"Accessed data size: {accessed_size_mb:.2f} MB\")"
   ]
  },
  {
   "cell_type": "code",
   "execution_count": 25,
   "metadata": {},
   "outputs": [
    {
     "name": "stdout",
     "output_type": "stream",
     "text": [
      "<xarray.Dataset> Size: 32kB\n",
      "Dimensions:    (longitude: 10, latitude: 10, time: 40)\n",
      "Coordinates:\n",
      "  * longitude  (longitude) float32 40B -180.0 -179.8 -179.5 ... -178.0 -177.8\n",
      "  * latitude   (latitude) float32 40B 90.0 89.75 89.5 89.25 ... 88.25 88.0 87.75\n",
      "  * time       (time) datetime64[ns] 320B 1984-01-01 1984-01-02 ... 1984-02-09\n",
      "Data variables:\n",
      "    t2m        (time, latitude, longitude) float64 32kB 248.7 248.7 ... 243.9\n",
      "Execution time: 0.019104719161987305 s \n",
      "Accessed data size: 0.03 MB\n"
     ]
    }
   ],
   "source": [
    "#Range query using the vertical cuboid access pattern on the first vertical cuboid chunk\n",
    "#(10x10x40)\n",
    "start = time.time()\n",
    "q2_ds = xr.open_dataset('cuboidv1.nc')\n",
    "q2 = q2_ds.isel(time=slice(0, 40), latitude=slice(0, 10), longitude=slice(0, 10)).compute()\n",
    "end = time.time()\n",
    "execution_time = end - start\n",
    "print(q2)\n",
    "print(f\"Execution time: {execution_time} s \")\n",
    "#Calculating the size of the accessed data\n",
    "accessed_size_bytes = q2.nbytes\n",
    "accessed_size_mb = accessed_size_bytes / (1024**2)\n",
    "print(f\"Accessed data size: {accessed_size_mb:.2f} MB\")"
   ]
  },
  {
   "cell_type": "code",
   "execution_count": 31,
   "metadata": {},
   "outputs": [
    {
     "name": "stdout",
     "output_type": "stream",
     "text": [
      "<xarray.Dataset> Size: 1MB\n",
      "Dimensions:    (longitude: 40, latitude: 40, time: 100)\n",
      "Coordinates:\n",
      "  * longitude  (longitude) float32 160B -180.0 -179.8 -179.5 ... -170.5 -170.2\n",
      "  * latitude   (latitude) float32 160B 90.0 89.75 89.5 ... 80.75 80.5 80.25\n",
      "  * time       (time) datetime64[ns] 800B 1984-01-01 1984-01-02 ... 1984-04-09\n",
      "Data variables:\n",
      "    t2m        (time, latitude, longitude) float64 1MB 248.7 248.7 ... 247.3\n",
      "Execution time: 0.022670745849609375 s \n",
      "Accessed data size: 1.22 MB\n"
     ]
    }
   ],
   "source": [
    "#Range query using the vertical cuboid access pattern on the first vertical cuboid chunk\n",
    "#(40x40x100)\n",
    "start = time.time()\n",
    "q2_ds = xr.open_dataset('cuboidv1.nc')\n",
    "q2 = q2_ds.isel(time=slice(0, 100), latitude=slice(0, 40), longitude=slice(0, 40)).compute()\n",
    "end = time.time()\n",
    "execution_time = end - start\n",
    "print(q2)\n",
    "print(f\"Execution time: {execution_time} s \")\n",
    "#Calculating the size of the accessed data\n",
    "accessed_size_bytes = q2.nbytes\n",
    "accessed_size_mb = accessed_size_bytes / (1024**2)\n",
    "print(f\"Accessed data size: {accessed_size_mb:.2f} MB\")"
   ]
  },
  {
   "cell_type": "code",
   "execution_count": 26,
   "metadata": {},
   "outputs": [
    {
     "name": "stdout",
     "output_type": "stream",
     "text": [
      "<xarray.Dataset> Size: 32kB\n",
      "Dimensions:    (longitude: 10, latitude: 10, time: 40)\n",
      "Coordinates:\n",
      "  * longitude  (longitude) float32 40B -155.0 -154.8 -154.5 ... -153.0 -152.8\n",
      "  * latitude   (latitude) float32 40B 65.0 64.75 64.5 64.25 ... 63.25 63.0 62.75\n",
      "  * time       (time) datetime64[ns] 320B 1986-03-11 1986-03-12 ... 1986-04-19\n",
      "Data variables:\n",
      "    t2m        (time, latitude, longitude) float64 32kB 253.9 254.0 ... 268.0\n",
      "Execution time: 0.014009237289428711 s \n",
      "Accessed data size: 0.03 MB\n"
     ]
    }
   ],
   "source": [
    "#Range query using the vertical cuboid access pattern on the second vertical cuboid chunk\n",
    "#(10x10x40)\n",
    "start = time.time()\n",
    "q2_ds = xr.open_dataset('cuboidv2.nc')\n",
    "q2 = q2_ds.isel(time=slice(0, 40), latitude=slice(0, 10), longitude=slice(0, 10)).compute()\n",
    "end = time.time()\n",
    "execution_time = end - start\n",
    "print(q2)\n",
    "print(f\"Execution time: {execution_time} s \")\n",
    "#Calculating the size of the accessed data\n",
    "accessed_size_bytes = q2.nbytes\n",
    "accessed_size_mb = accessed_size_bytes / (1024**2)\n",
    "print(f\"Accessed data size: {accessed_size_mb:.2f} MB\")"
   ]
  },
  {
   "cell_type": "code",
   "execution_count": 32,
   "metadata": {},
   "outputs": [
    {
     "name": "stdout",
     "output_type": "stream",
     "text": [
      "<xarray.Dataset> Size: 1MB\n",
      "Dimensions:    (longitude: 40, latitude: 40, time: 100)\n",
      "Coordinates:\n",
      "  * longitude  (longitude) float32 160B -155.0 -154.8 -154.5 ... -145.5 -145.2\n",
      "  * latitude   (latitude) float32 160B 65.0 64.75 64.5 ... 55.75 55.5 55.25\n",
      "  * time       (time) datetime64[ns] 800B 1986-03-11 1986-03-12 ... 1986-06-18\n",
      "Data variables:\n",
      "    t2m        (time, latitude, longitude) float64 1MB 253.9 254.0 ... 281.0\n",
      "Execution time: 0.021991729736328125 s \n",
      "Accessed data size: 1.22 MB\n"
     ]
    }
   ],
   "source": [
    "#Range query using the vertical cuboid access pattern on the second vertical cuboid chunk\n",
    "#(40x40x100)\n",
    "start = time.time()\n",
    "q2_ds = xr.open_dataset('cuboidv2.nc')\n",
    "q2 = q2_ds.isel(time=slice(0, 100), latitude=slice(0, 40), longitude=slice(0, 40)).compute()\n",
    "end = time.time()\n",
    "execution_time = end - start\n",
    "print(q2)\n",
    "print(f\"Execution time: {execution_time} s \")\n",
    "#Calculating the size of the accessed data\n",
    "accessed_size_bytes = q2.nbytes\n",
    "accessed_size_mb = accessed_size_bytes / (1024**2)\n",
    "print(f\"Accessed data size: {accessed_size_mb:.2f} MB\")"
   ]
  },
  {
   "cell_type": "code",
   "execution_count": 37,
   "metadata": {},
   "outputs": [
    {
     "name": "stdout",
     "output_type": "stream",
     "text": [
      "<xarray.Dataset> Size: 2MB\n",
      "Dimensions:    (longitude: 100, latitude: 100, time: 25)\n",
      "Coordinates:\n",
      "  * longitude  (longitude) float32 400B -180.0 -179.8 -179.5 ... -155.5 -155.2\n",
      "  * latitude   (latitude) float32 400B 90.0 89.75 89.5 ... 65.75 65.5 65.25\n",
      "  * time       (time) datetime64[ns] 200B 1984-01-01 1984-01-02 ... 1984-01-25\n",
      "Data variables:\n",
      "    t2m        (time, latitude, longitude) float64 2MB 248.7 248.7 ... 235.8\n",
      "Execution time: 0.02421116828918457 s \n",
      "Accessed data size: 1.91 MB\n"
     ]
    }
   ],
   "source": [
    "#Range query using the horizontal cuboid access pattern on the first vertical cuboid chunk\n",
    "#(100x100x25)\n",
    "start = time.time()\n",
    "q3_ds = xr.open_dataset('cuboidv1.nc')\n",
    "q3 = q3_ds.isel(time=slice(0, 25), latitude=slice(0, 100), longitude=slice(0, 100)).compute()\n",
    "end = time.time()\n",
    "execution_time = end - start\n",
    "print(q3)\n",
    "print(f\"Execution time: {execution_time} s \")\n",
    "#Calculating the size of the accessed data\n",
    "accessed_size_bytes = q3.nbytes\n",
    "accessed_size_mb = accessed_size_bytes / (1024**2)\n",
    "print(f\"Accessed data size: {accessed_size_mb:.2f} MB\")"
   ]
  },
  {
   "cell_type": "code",
   "execution_count": 38,
   "metadata": {},
   "outputs": [
    {
     "name": "stdout",
     "output_type": "stream",
     "text": [
      "<xarray.Dataset> Size: 2MB\n",
      "Dimensions:    (longitude: 100, latitude: 100, time: 25)\n",
      "Coordinates:\n",
      "  * longitude  (longitude) float32 400B -155.0 -154.8 -154.5 ... -130.5 -130.2\n",
      "  * latitude   (latitude) float32 400B 65.0 64.75 64.5 ... 40.75 40.5 40.25\n",
      "  * time       (time) datetime64[ns] 200B 1986-03-11 1986-03-12 ... 1986-04-04\n",
      "Data variables:\n",
      "    t2m        (time, latitude, longitude) float64 2MB 253.9 254.0 ... 283.7\n",
      "Execution time: 0.025206565856933594 s \n",
      "Accessed data size: 1.91 MB\n"
     ]
    }
   ],
   "source": [
    "#Range query using the horizontal cuboid access pattern on the second vertical cuboid chunk\n",
    "#(100x100x25)\n",
    "start = time.time()\n",
    "q3_ds = xr.open_dataset('cuboidv2.nc')\n",
    "q3 = q3_ds.isel(time=slice(0, 25), latitude=slice(0, 100), longitude=slice(0, 100)).compute()\n",
    "end = time.time()\n",
    "execution_time = end - start\n",
    "print(q3)\n",
    "print(f\"Execution time: {execution_time} s \")\n",
    "#Calculating the size of the accessed data\n",
    "accessed_size_bytes = q3.nbytes\n",
    "accessed_size_mb = accessed_size_bytes / (1024**2)\n",
    "print(f\"Accessed data size: {accessed_size_mb:.2f} MB\")"
   ]
  },
  {
   "cell_type": "markdown",
   "metadata": {},
   "source": [
    "Horizontal Cuboid (400x400x50)"
   ]
  },
  {
   "cell_type": "code",
   "execution_count": 18,
   "metadata": {},
   "outputs": [],
   "source": [
    "#First cuboid chunk \n",
    "cuboidv_chunk1 = t2m.isel(latitude=slice(0, 400), longitude=slice(0, 400), time=slice(0, 50)).compute()\n",
    "cuboidv_chunk1\n",
    "cuboidv_chunk1.to_netcdf('cuboidh1.nc')"
   ]
  },
  {
   "cell_type": "code",
   "execution_count": 19,
   "metadata": {},
   "outputs": [],
   "source": [
    "#Second cuboid chunk \n",
    "#For the latitude variable it's only 741 values so will have less tha 400 values\n",
    "cuboidv_chunk1 = t2m.isel(latitude=slice(400, 800), longitude=slice(400, 800), time=slice(50, 100)).compute()\n",
    "cuboidv_chunk1\n",
    "cuboidv_chunk1.to_netcdf('cuboidh2.nc')"
   ]
  },
  {
   "cell_type": "code",
   "execution_count": 20,
   "metadata": {},
   "outputs": [
    {
     "name": "stdout",
     "output_type": "stream",
     "text": [
      "Cuboid 1 size on disk: 15.27 MB\n",
      "Cuboid 2 size on disk: 12.26 MB\n"
     ]
    }
   ],
   "source": [
    "#Size of all cuboid chuncks\n",
    "\n",
    "for i in range (2):\n",
    "    file_path= f\"cuboidh{i+1}.nc\"\n",
    "    file_size_bytes = os.path.getsize(file_path)\n",
    "    print(f\"Cuboid {i+1} size on disk: {file_size_bytes / (1024**2):.2f} MB\")"
   ]
  },
  {
   "cell_type": "code",
   "execution_count": 21,
   "metadata": {},
   "outputs": [
    {
     "name": "stdout",
     "output_type": "stream",
     "text": [
      "<xarray.Dataset> Size: 1MB\n",
      "Dimensions:    (longitude: 50, latitude: 50, time: 50)\n",
      "Coordinates:\n",
      "  * longitude  (longitude) float32 200B -180.0 -179.8 -179.5 ... -168.0 -167.8\n",
      "  * latitude   (latitude) float32 200B 90.0 89.75 89.5 ... 78.25 78.0 77.75\n",
      "  * time       (time) datetime64[ns] 400B 1984-01-01 1984-01-02 ... 1984-02-19\n",
      "Data variables:\n",
      "    t2m        (time, latitude, longitude) float64 1MB 248.7 248.7 ... 245.6\n",
      "Execution time: 0.028993844985961914 s \n",
      "Accessed data size: 0.95 MB\n"
     ]
    }
   ],
   "source": [
    "#Range query using the cube access pattern on the first horizontal cuboid chunk\n",
    "start = time.time()\n",
    "q1_ds = xr.open_dataset('cuboidh1.nc')\n",
    "q1 = q1_ds.isel(time=slice(0, 50), latitude=slice(0, 50), longitude=slice(0, 50)).compute()\n",
    "end = time.time()\n",
    "execution_time = end - start\n",
    "print(q1)\n",
    "print(f\"Execution time: {execution_time} s \")\n",
    "#Calculating the size of the accessed data\n",
    "accessed_size_bytes = q1.nbytes\n",
    "accessed_size_mb = accessed_size_bytes / (1024**2)\n",
    "print(f\"Accessed data size: {accessed_size_mb:.2f} MB\")"
   ]
  },
  {
   "cell_type": "code",
   "execution_count": 22,
   "metadata": {},
   "outputs": [
    {
     "name": "stdout",
     "output_type": "stream",
     "text": [
      "<xarray.Dataset> Size: 1MB\n",
      "Dimensions:    (longitude: 50, latitude: 50, time: 50)\n",
      "Coordinates:\n",
      "  * longitude  (longitude) float32 200B -80.0 -79.75 -79.5 ... -68.0 -67.75\n",
      "  * latitude   (latitude) float32 200B -10.0 -10.25 -10.5 ... -22.0 -22.25\n",
      "  * time       (time) datetime64[ns] 400B 1984-02-20 1984-02-21 ... 1984-04-09\n",
      "Data variables:\n",
      "    t2m        (time, latitude, longitude) float64 1MB 296.6 296.4 ... 274.5\n",
      "Execution time: 0.026038408279418945 s \n",
      "Accessed data size: 0.95 MB\n"
     ]
    }
   ],
   "source": [
    "#Range query using the cube access pattern on the second horizontal cuboid chunk\n",
    "start = time.time()\n",
    "q1_ds = xr.open_dataset('cuboidh2.nc')\n",
    "q1 = q1_ds.isel(time=slice(0, 50), latitude=slice(0, 50), longitude=slice(0, 50)).compute()\n",
    "end = time.time()\n",
    "execution_time = end - start\n",
    "print(q1)\n",
    "print(f\"Execution time: {execution_time} s \")\n",
    "#Calculating the size of the accessed data\n",
    "accessed_size_bytes = q1.nbytes\n",
    "accessed_size_mb = accessed_size_bytes / (1024**2)\n",
    "print(f\"Accessed data size: {accessed_size_mb:.2f} MB\")"
   ]
  },
  {
   "cell_type": "code",
   "execution_count": 27,
   "metadata": {},
   "outputs": [
    {
     "name": "stdout",
     "output_type": "stream",
     "text": [
      "<xarray.Dataset> Size: 32kB\n",
      "Dimensions:    (longitude: 10, latitude: 10, time: 40)\n",
      "Coordinates:\n",
      "  * longitude  (longitude) float32 40B -180.0 -179.8 -179.5 ... -178.0 -177.8\n",
      "  * latitude   (latitude) float32 40B 90.0 89.75 89.5 89.25 ... 88.25 88.0 87.75\n",
      "  * time       (time) datetime64[ns] 320B 1984-01-01 1984-01-02 ... 1984-02-09\n",
      "Data variables:\n",
      "    t2m        (time, latitude, longitude) float64 32kB 248.7 248.7 ... 243.9\n",
      "Execution time: 0.029966354370117188 s \n",
      "Accessed data size: 0.03 MB\n"
     ]
    }
   ],
   "source": [
    "#Range query using the vertical cuboid access pattern on the first horizontal cuboid chunk\n",
    "#(10x10x40)\n",
    "start = time.time()\n",
    "q2_ds = xr.open_dataset('cuboidh1.nc')\n",
    "q2 = q2_ds.isel(time=slice(0, 40), latitude=slice(0, 10), longitude=slice(0, 10)).compute()\n",
    "end = time.time()\n",
    "execution_time = end - start\n",
    "print(q2)\n",
    "print(f\"Execution time: {execution_time} s \")\n",
    "#Calculating the size of the accessed data\n",
    "accessed_size_bytes = q2.nbytes\n",
    "accessed_size_mb = accessed_size_bytes / (1024**2)\n",
    "print(f\"Accessed data size: {accessed_size_mb:.2f} MB\")"
   ]
  },
  {
   "cell_type": "code",
   "execution_count": 34,
   "metadata": {},
   "outputs": [
    {
     "name": "stdout",
     "output_type": "stream",
     "text": [
      "<xarray.Dataset> Size: 641kB\n",
      "Dimensions:    (longitude: 40, latitude: 40, time: 50)\n",
      "Coordinates:\n",
      "  * longitude  (longitude) float32 160B -180.0 -179.8 -179.5 ... -170.5 -170.2\n",
      "  * latitude   (latitude) float32 160B 90.0 89.75 89.5 ... 80.75 80.5 80.25\n",
      "  * time       (time) datetime64[ns] 400B 1984-01-01 1984-01-02 ... 1984-02-19\n",
      "Data variables:\n",
      "    t2m        (time, latitude, longitude) float64 640kB 248.7 248.7 ... 242.0\n",
      "Execution time: 0.02598714828491211 s \n",
      "Accessed data size: 0.61 MB\n"
     ]
    }
   ],
   "source": [
    "#Range query using the vertical cuboid access pattern on the first horizontal cuboid chunk\n",
    "#(40x40x100)\n",
    "start = time.time()\n",
    "q2_ds = xr.open_dataset('cuboidh1.nc')\n",
    "q2 = q2_ds.isel(time=slice(0, 100), latitude=slice(0, 40), longitude=slice(0, 40)).compute()\n",
    "end = time.time()\n",
    "execution_time = end - start\n",
    "print(q2)\n",
    "print(f\"Execution time: {execution_time} s \")\n",
    "#Calculating the size of the accessed data\n",
    "accessed_size_bytes = q2.nbytes\n",
    "accessed_size_mb = accessed_size_bytes / (1024**2)\n",
    "print(f\"Accessed data size: {accessed_size_mb:.2f} MB\")"
   ]
  },
  {
   "cell_type": "code",
   "execution_count": 28,
   "metadata": {},
   "outputs": [
    {
     "name": "stdout",
     "output_type": "stream",
     "text": [
      "<xarray.Dataset> Size: 32kB\n",
      "Dimensions:    (longitude: 10, latitude: 10, time: 40)\n",
      "Coordinates:\n",
      "  * longitude  (longitude) float32 40B -80.0 -79.75 -79.5 ... -78.0 -77.75\n",
      "  * latitude   (latitude) float32 40B -10.0 -10.25 -10.5 ... -11.75 -12.0 -12.25\n",
      "  * time       (time) datetime64[ns] 320B 1984-02-20 1984-02-21 ... 1984-03-30\n",
      "Data variables:\n",
      "    t2m        (time, latitude, longitude) float64 32kB 296.6 296.4 ... 294.6\n",
      "Execution time: 0.012999773025512695 s \n",
      "Accessed data size: 0.03 MB\n"
     ]
    }
   ],
   "source": [
    "#Range query using the vertical cuboid access pattern on the second horizontal cuboid chunk\n",
    "#(10x10x40)\n",
    "start = time.time()\n",
    "q2_ds = xr.open_dataset('cuboidh2.nc')\n",
    "q2 = q2_ds.isel(time=slice(0, 40), latitude=slice(0, 10), longitude=slice(0, 10)).compute()\n",
    "end = time.time()\n",
    "execution_time = end - start\n",
    "print(q2)\n",
    "print(f\"Execution time: {execution_time} s \")\n",
    "#Calculating the size of the accessed data\n",
    "accessed_size_bytes = q2.nbytes\n",
    "accessed_size_mb = accessed_size_bytes / (1024**2)\n",
    "print(f\"Accessed data size: {accessed_size_mb:.2f} MB\")"
   ]
  },
  {
   "cell_type": "code",
   "execution_count": 33,
   "metadata": {},
   "outputs": [
    {
     "name": "stdout",
     "output_type": "stream",
     "text": [
      "<xarray.Dataset> Size: 641kB\n",
      "Dimensions:    (longitude: 40, latitude: 40, time: 50)\n",
      "Coordinates:\n",
      "  * longitude  (longitude) float32 160B -80.0 -79.75 -79.5 ... -70.5 -70.25\n",
      "  * latitude   (latitude) float32 160B -10.0 -10.25 -10.5 ... -19.5 -19.75\n",
      "  * time       (time) datetime64[ns] 400B 1984-02-20 1984-02-21 ... 1984-04-09\n",
      "Data variables:\n",
      "    t2m        (time, latitude, longitude) float64 640kB 296.6 296.4 ... 292.5\n",
      "Execution time: 0.018498897552490234 s \n",
      "Accessed data size: 0.61 MB\n"
     ]
    }
   ],
   "source": [
    "#Range query using the vertical cuboid access pattern on the second horizontal cuboid chunk\n",
    "#(40x40x100)\n",
    "start = time.time()\n",
    "q2_ds = xr.open_dataset('cuboidh2.nc')\n",
    "q2 = q2_ds.isel(time=slice(0, 100), latitude=slice(0, 40), longitude=slice(0, 40)).compute()\n",
    "end = time.time()\n",
    "execution_time = end - start\n",
    "print(q2)\n",
    "print(f\"Execution time: {execution_time} s \")\n",
    "#Calculating the size of the accessed data\n",
    "accessed_size_bytes = q2.nbytes\n",
    "accessed_size_mb = accessed_size_bytes / (1024**2)\n",
    "print(f\"Accessed data size: {accessed_size_mb:.2f} MB\")"
   ]
  },
  {
   "cell_type": "code",
   "execution_count": 39,
   "metadata": {},
   "outputs": [
    {
     "name": "stdout",
     "output_type": "stream",
     "text": [
      "<xarray.Dataset> Size: 2MB\n",
      "Dimensions:    (longitude: 100, latitude: 100, time: 25)\n",
      "Coordinates:\n",
      "  * longitude  (longitude) float32 400B -180.0 -179.8 -179.5 ... -155.5 -155.2\n",
      "  * latitude   (latitude) float32 400B 90.0 89.75 89.5 ... 65.75 65.5 65.25\n",
      "  * time       (time) datetime64[ns] 200B 1984-01-01 1984-01-02 ... 1984-01-25\n",
      "Data variables:\n",
      "    t2m        (time, latitude, longitude) float64 2MB 248.7 248.7 ... 235.8\n",
      "Execution time: 0.018004417419433594 s \n",
      "Accessed data size: 1.91 MB\n"
     ]
    }
   ],
   "source": [
    "#Range query using the horizontal cuboid access pattern on the first horizontal cuboid chunk\n",
    "#(100x100x25)\n",
    "start = time.time()\n",
    "q3_ds = xr.open_dataset('cuboidh1.nc')\n",
    "q3 = q3_ds.isel(time=slice(0, 25), latitude=slice(0, 100), longitude=slice(0, 100)).compute()\n",
    "end = time.time()\n",
    "execution_time = end - start\n",
    "print(q3)\n",
    "print(f\"Execution time: {execution_time} s \")\n",
    "#Calculating the size of the accessed data\n",
    "accessed_size_bytes = q3.nbytes\n",
    "accessed_size_mb = accessed_size_bytes / (1024**2)\n",
    "print(f\"Accessed data size: {accessed_size_mb:.2f} MB\")"
   ]
  },
  {
   "cell_type": "code",
   "execution_count": 40,
   "metadata": {},
   "outputs": [
    {
     "name": "stdout",
     "output_type": "stream",
     "text": [
      "<xarray.Dataset> Size: 2MB\n",
      "Dimensions:    (longitude: 100, latitude: 100, time: 25)\n",
      "Coordinates:\n",
      "  * longitude  (longitude) float32 400B -80.0 -79.75 -79.5 ... -55.5 -55.25\n",
      "  * latitude   (latitude) float32 400B -10.0 -10.25 -10.5 ... -34.5 -34.75\n",
      "  * time       (time) datetime64[ns] 200B 1984-02-20 1984-02-21 ... 1984-03-15\n",
      "Data variables:\n",
      "    t2m        (time, latitude, longitude) float64 2MB 296.6 296.4 ... 294.8\n",
      "Execution time: 0.010125160217285156 s \n",
      "Accessed data size: 1.91 MB\n"
     ]
    }
   ],
   "source": [
    "#Range query using the horizontal cuboid access pattern on the second horizontal cuboid chunk\n",
    "#(100x100x25)\n",
    "start = time.time()\n",
    "q3_ds = xr.open_dataset('cuboidh2.nc')\n",
    "q3 = q3_ds.isel(time=slice(0, 25), latitude=slice(0, 100), longitude=slice(0, 100)).compute()\n",
    "end = time.time()\n",
    "execution_time = end - start\n",
    "print(q3)\n",
    "print(f\"Execution time: {execution_time} s \")\n",
    "#Calculating the size of the accessed data\n",
    "accessed_size_bytes = q3.nbytes\n",
    "accessed_size_mb = accessed_size_bytes / (1024**2)\n",
    "print(f\"Accessed data size: {accessed_size_mb:.2f} MB\")"
   ]
  },
  {
   "cell_type": "markdown",
   "metadata": {},
   "source": [
    "Old code for reference"
   ]
  },
  {
   "cell_type": "code",
   "execution_count": null,
   "metadata": {},
   "outputs": [],
   "source": [
    "# 1. Time Slice (All latitudes and longitudes at a specific time)\n",
    "time_slice = t2m.isel(time=0)  # First time step\n",
    "print(f\"\\nTime Slice (t=0):\\n{time_slice}\")\n",
    "time_slice[0][0].values"
   ]
  },
  {
   "cell_type": "code",
   "execution_count": null,
   "metadata": {},
   "outputs": [],
   "source": [
    "#Cube chunk (200x200x200)\n",
    "cube_chunk = t2m.isel(time=slice(0, 200), latitude=slice(0, 200), longitude=slice(0, 200))\n",
    "print(cube_chunk)\n",
    "#cube_chunk[0][0].values"
   ]
  },
  {
   "cell_type": "code",
   "execution_count": null,
   "metadata": {},
   "outputs": [],
   "source": [
    "#Range query for cube chunk (index) -> cube access pattern\n",
    "def time():\n",
    "    query = cube_chunk.isel(time=slice(0, 50), latitude=slice(0, 50), longitude=slice(0, 50))  # First time step\n",
    "    print(\"here\",query.values)\n",
    "execution_time = timeit.timeit(time, number = 1)\n",
    "print(f\"Execution Time: {execution_time}\")"
   ]
  },
  {
   "cell_type": "code",
   "execution_count": null,
   "metadata": {},
   "outputs": [],
   "source": [
    "#Range query for cube chunk (index) -> cube access pattern\n",
    "def time():\n",
    "    query = cube_chunk.isel(time=slice(0, 40), latitude=slice(0, 40), longitude=slice(0, 40))  # First time step\n",
    "    print(\"here\",query.values)\n",
    "execution_time = timeit.timeit(time, number = 1)\n",
    "print(f\"Execution Time: {execution_time}\")"
   ]
  },
  {
   "cell_type": "code",
   "execution_count": null,
   "metadata": {},
   "outputs": [],
   "source": [
    "#Range query for cube chunk (index) -> vertical cuboid access pattern\n",
    "def time():\n",
    "    query = cube_chunk.isel(time=slice(0, 80), latitude=slice(0, 10), longitude=slice(0, 10))  # First time step\n",
    "    print(query.values)\n",
    "execution_time = timeit.timeit(time, number = 1)\n",
    "print(f\"Execution Time: {execution_time}\")"
   ]
  },
  {
   "cell_type": "code",
   "execution_count": null,
   "metadata": {},
   "outputs": [],
   "source": [
    "#Range query for cube chunk (index) -> vertical cuboid access pattern\n",
    "def time():\n",
    "    query = cube_chunk.isel(time=slice(0, 100), latitude=slice(0, 40), longitude=slice(0, 40))  # First time step\n",
    "    print(query.values)\n",
    "execution_time = timeit.timeit(time, number = 1)\n",
    "print(f\"Execution Time: {execution_time}\")"
   ]
  },
  {
   "cell_type": "code",
   "execution_count": null,
   "metadata": {},
   "outputs": [],
   "source": [
    "#Range query for cube chunk (index) -> horizontal cuboid access pattern\n",
    "def time():\n",
    "    query = cube_chunk.isel(time=slice(0, 25), latitude=slice(0, 100), longitude=slice(0, 100))  # First time step\n",
    "    print(query.values)\n",
    "execution_time = timeit.timeit(time, number = 1)\n",
    "print(f\"Execution Time: {execution_time}\")"
   ]
  },
  {
   "cell_type": "markdown",
   "metadata": {},
   "source": [
    "Vertical cuboid chunk (800x100x100)"
   ]
  },
  {
   "cell_type": "code",
   "execution_count": null,
   "metadata": {},
   "outputs": [],
   "source": [
    "#Vertical cuboid chunk (800x100x100)\n",
    "vertical_cuboid_chunk = t2m.isel(time=slice(0, 800), latitude=slice(0, 100), longitude=slice(0, 100))\n",
    "print(vertical_cuboid_chunk)"
   ]
  },
  {
   "cell_type": "code",
   "execution_count": null,
   "metadata": {},
   "outputs": [],
   "source": [
    "#Range query for vertical cuboid chunk (index) -> cube access pattern\n",
    "def time():\n",
    "    query = vertical_cuboid_chunk.isel(time=slice(0, 50), latitude=slice(0, 50), longitude=slice(0, 50))  # First time step\n",
    "    print(query.values)\n",
    "execution_time = timeit.timeit(time, number = 1)\n",
    "print(f\"Execution Time: {execution_time}\")"
   ]
  },
  {
   "cell_type": "code",
   "execution_count": null,
   "metadata": {},
   "outputs": [],
   "source": [
    "#Range query for vertical cuboid chunk (index) -> cube access pattern\n",
    "def time():\n",
    "    query = vertical_cuboid_chunk.isel(time=slice(0, 40), latitude=slice(0, 40), longitude=slice(0, 40))  # First time step\n",
    "    print(query.values)\n",
    "execution_time = timeit.timeit(time, number = 1)\n",
    "print(f\"Execution Time: {execution_time}\")"
   ]
  },
  {
   "cell_type": "code",
   "execution_count": null,
   "metadata": {},
   "outputs": [],
   "source": [
    "#Range query for vertical cuboid chunk (index) -> vertical cuboid access pattern\n",
    "def time():\n",
    "    query = vertical_cuboid_chunk.isel(time=slice(0, 80), latitude=slice(0, 10), longitude=slice(0, 10))  # First time step\n",
    "    print(query.values)\n",
    "execution_time = timeit.timeit(time, number = 1)\n",
    "print(f\"Execution Time: {execution_time}\")"
   ]
  },
  {
   "cell_type": "code",
   "execution_count": null,
   "metadata": {},
   "outputs": [],
   "source": [
    "#Range query for vertical cuboid chunk (index) -> vertical cuboid access pattern\n",
    "def time():\n",
    "    query = vertical_cuboid_chunk.isel(time=slice(0, 100), latitude=slice(0, 40), longitude=slice(0, 40))  # First time step\n",
    "    print(query.values)\n",
    "execution_time = timeit.timeit(time, number = 1)\n",
    "print(f\"Execution Time: {execution_time}\")"
   ]
  },
  {
   "cell_type": "code",
   "execution_count": null,
   "metadata": {},
   "outputs": [],
   "source": [
    "#Range query for vertical cuboid chunk (index) -> horizontal cuboid access pattern\n",
    "def time():\n",
    "    query = vertical_cuboid_chunk.isel(time=slice(0, 25), latitude=slice(0, 100), longitude=slice(0, 100))  # First time step\n",
    "    print(query.values)\n",
    "execution_time = timeit.timeit(time, number = 1)\n",
    "print(f\"Execution Time: {execution_time}\")"
   ]
  },
  {
   "cell_type": "markdown",
   "metadata": {},
   "source": [
    "Horizontal cuboid chunk (50x400x400)"
   ]
  },
  {
   "cell_type": "code",
   "execution_count": null,
   "metadata": {},
   "outputs": [],
   "source": [
    "#Horizontal cuboid chunk (50x400x400)\n",
    "horizontal_cuboid_chunk = t2m.isel(time=slice(0, 50), latitude=slice(0, 400), longitude=slice(0, 400))\n",
    "print(horizontal_cuboid_chunk)"
   ]
  },
  {
   "cell_type": "code",
   "execution_count": null,
   "metadata": {},
   "outputs": [],
   "source": [
    "#Range query for horizontal cuboid chunk (index) -> cube access pattern\n",
    "def time():\n",
    "    query = horizontal_cuboid_chunk.isel(time=slice(0, 50), latitude=slice(0, 50), longitude=slice(0, 50))  # First time step\n",
    "    print(query.values)\n",
    "execution_time = timeit.timeit(time, number = 1)\n",
    "print(f\"Execution Time: {execution_time}\")"
   ]
  },
  {
   "cell_type": "code",
   "execution_count": null,
   "metadata": {},
   "outputs": [],
   "source": [
    "#Range query for horizontal cuboid chunk (index) -> cube access pattern\n",
    "def time():\n",
    "    query = horizontal_cuboid_chunk.isel(time=slice(0, 40), latitude=slice(0, 40), longitude=slice(0, 40))  # First time step\n",
    "    print(query.values)\n",
    "execution_time = timeit.timeit(time, number = 1)\n",
    "print(f\"Execution Time: {execution_time}\")"
   ]
  },
  {
   "cell_type": "code",
   "execution_count": null,
   "metadata": {},
   "outputs": [],
   "source": [
    "#Range query for horizontal cuboid chunk (index) -> vertical cuboid access pattern\n",
    "def time():\n",
    "    query = horizontal_cuboid_chunk.isel(time=slice(0, 80), latitude=slice(0, 10), longitude=slice(0, 10))  # First time step\n",
    "    print(query.values)\n",
    "execution_time = timeit.timeit(time, number = 1)\n",
    "print(f\"Execution Time: {execution_time}\")"
   ]
  },
  {
   "cell_type": "code",
   "execution_count": null,
   "metadata": {},
   "outputs": [],
   "source": [
    "#Range query for horizontal cuboid chunk (index) -> vertical cuboid access pattern\n",
    "def time():\n",
    "    query = horizontal_cuboid_chunk.isel(time=slice(0, 100), latitude=slice(0, 40), longitude=slice(0, 40))  # First time step\n",
    "    print(query.values)\n",
    "execution_time = timeit.timeit(time, number = 1)\n",
    "print(f\"Execution Time: {execution_time}\")"
   ]
  },
  {
   "cell_type": "code",
   "execution_count": null,
   "metadata": {},
   "outputs": [],
   "source": [
    "#Range query for horizontal cuboid chunk (index) -> horizontal cuboid access pattern\n",
    "def time():\n",
    "    query = horizontal_cuboid_chunk.isel(time=slice(0, 25), latitude=slice(0, 100), longitude=slice(0, 100))  # First time step\n",
    "    print(query.values)\n",
    "execution_time = timeit.timeit(time, number = 1)\n",
    "print(f\"Execution Time: {execution_time}\")"
   ]
  },
  {
   "cell_type": "markdown",
   "metadata": {},
   "source": [
    "extra testing"
   ]
  },
  {
   "cell_type": "code",
   "execution_count": null,
   "metadata": {},
   "outputs": [],
   "source": [
    "#Point query for vertical cuboid chunk (800x100x100)\n",
    "def time():\n",
    "    query = vertical_cuboid_chunk.sel(time='1984-01-01', latitude=90.0, longitude=-180.0)  # First time step\n",
    "    print(\"here\",query.values)\n",
    "execution_time = timeit.timeit(time, number = 1)\n",
    "print(f\"Execution Time: {execution_time}\")"
   ]
  },
  {
   "cell_type": "code",
   "execution_count": null,
   "metadata": {},
   "outputs": [],
   "source": [
    "#Range query for cube chunk (values)\n",
    "def time():\n",
    "    time_range = slice('1984-01-01', '1985-08-01')\n",
    "    latitude_range = slice(90.0, 75.0)\n",
    "    longitude_range = slice(-180.0, -150.0)\n",
    "    query = cube_chunk.sel(time=time_range, latitude=latitude_range, longitude=longitude_range)  # First time step\n",
    "    print(\"here\",query.values)\n",
    "execution_time = timeit.timeit(time, number = 1)\n",
    "print(f\"Execution Time: {execution_time}\")"
   ]
  },
  {
   "cell_type": "code",
   "execution_count": null,
   "metadata": {},
   "outputs": [],
   "source": [
    "#Point query for horizontal cuboid chunk (100x800x800)\n",
    "def time():\n",
    "    query = horizontal_cuboid_chunk.sel(time='1984-01-01', latitude=90.0, longitude=-180.0)  # First time step\n",
    "    print(\"here\",query.values)\n",
    "execution_time = timeit.timeit(time, number = 1)\n",
    "print(f\"Execution Time: {execution_time}\")"
   ]
  },
  {
   "cell_type": "code",
   "execution_count": null,
   "metadata": {},
   "outputs": [],
   "source": [
    "#Point query for cube chunk\n",
    "def time():\n",
    "    query = cube_chunk.sel(time='1984-01-01', latitude=90.0, longitude=-180.0)  # First time step\n",
    "    print(\"here\",query.values)\n",
    "execution_time = timeit.timeit(time, number = 1)\n",
    "print(f\"Execution Time: {execution_time}\")"
   ]
  },
  {
   "cell_type": "code",
   "execution_count": null,
   "metadata": {},
   "outputs": [],
   "source": [
    "# 4. Horizontal Cuboid-Shaped Chunk (5 time steps, 5 latitudes, 5 longitudes)\n",
    "def test():\n",
    "    cube_chunk = t2m.isel(time=slice(0, 4), latitude=slice(0, 4000), longitude=slice(0, 4000))\n",
    "    print(cube_chunk)\n",
    "    cube_chunk[0][0].values\n",
    "execution_time = timeit.timeit(test, number = 1)\n",
    "print(f\"Execution Time: {execution_time}\")"
   ]
  },
  {
   "cell_type": "code",
   "execution_count": null,
   "metadata": {},
   "outputs": [],
   "source": [
    "#Range query for vertical cuboid chunk (10000x80x80)\n",
    "def time():\n",
    "    time_range = slice('1984-01-01', '1985-08-01')\n",
    "    latitude_range = slice(90.0, 75.0)\n",
    "    longitude_range = slice(-180.0, -150.0)\n",
    "    query = vertical_cuboid_chunk.sel(time=time_range, latitude=latitude_range, longitude=longitude_range)  # First time step\n",
    "    print(\"here\",query.values)\n",
    "execution_time = timeit.timeit(time, number = 1)\n",
    "print(f\"Execution Time: {execution_time}\")"
   ]
  }
 ],
 "metadata": {
  "kernelspec": {
   "display_name": "Python 3",
   "language": "python",
   "name": "python3"
  },
  "language_info": {
   "codemirror_mode": {
    "name": "ipython",
    "version": 3
   },
   "file_extension": ".py",
   "mimetype": "text/x-python",
   "name": "python",
   "nbconvert_exporter": "python",
   "pygments_lexer": "ipython3",
   "version": "3.12.0"
  }
 },
 "nbformat": 4,
 "nbformat_minor": 2
}
